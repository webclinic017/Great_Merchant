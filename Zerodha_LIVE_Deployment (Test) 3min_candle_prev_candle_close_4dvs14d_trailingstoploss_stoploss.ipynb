{
 "cells": [
  {
   "cell_type": "code",
   "execution_count": 1,
   "metadata": {},
   "outputs": [],
   "source": [
    "from kiteconnect import KiteConnect"
   ]
  },
  {
   "cell_type": "code",
   "execution_count": 2,
   "metadata": {},
   "outputs": [],
   "source": [
    "import logging\n",
    "import requests"
   ]
  },
  {
   "cell_type": "code",
   "execution_count": 3,
   "metadata": {},
   "outputs": [],
   "source": [
    "import pandas as pd"
   ]
  },
  {
   "cell_type": "code",
   "execution_count": 4,
   "metadata": {},
   "outputs": [],
   "source": [
    "from time import time, sleep"
   ]
  },
  {
   "cell_type": "code",
   "execution_count": 5,
   "metadata": {},
   "outputs": [],
   "source": [
    "from datetime import datetime, timedelta"
   ]
  },
  {
   "cell_type": "code",
   "execution_count": 6,
   "metadata": {},
   "outputs": [],
   "source": [
    "import matplotlib.pyplot as plt\n",
    "%matplotlib inline"
   ]
  },
  {
   "cell_type": "code",
   "execution_count": 7,
   "metadata": {},
   "outputs": [],
   "source": [
    "pd.set_option(\"display.max_rows\", None, \"display.max_columns\", None)"
   ]
  },
  {
   "cell_type": "code",
   "execution_count": 8,
   "metadata": {},
   "outputs": [],
   "source": [
    "api_key = \"f5ean4aaxq3wv9n3\"\n",
    "client_id = \"ED5107\"\n",
    "api_secret = \"s1kbs5y654zhbpqgd2rvslqc6shx9yh8\""
   ]
  },
  {
   "cell_type": "code",
   "execution_count": 9,
   "metadata": {},
   "outputs": [
    {
     "name": "stdout",
     "output_type": "stream",
     "text": [
      "https://kite.trade/connect/login?api_key=f5ean4aaxq3wv9n3&v=3\n"
     ]
    }
   ],
   "source": [
    "logging.basicConfig(level=logging.DEBUG)\n",
    "kite = KiteConnect(api_key=api_key)\n",
    "print(kite.login_url())"
   ]
  },
  {
   "cell_type": "code",
   "execution_count": 10,
   "metadata": {},
   "outputs": [],
   "source": [
    "# Get the Request Token from the redirect URL\n",
    "\n",
    "request_token = \"lfHJw5gPU9776dMecEtHXvnhVA7rxUi6\""
   ]
  },
  {
   "cell_type": "markdown",
   "metadata": {},
   "source": [
    "# Get Access Token"
   ]
  },
  {
   "cell_type": "code",
   "execution_count": 11,
   "metadata": {},
   "outputs": [
    {
     "name": "stdout",
     "output_type": "stream",
     "text": [
      "vi1wl6l41InTOc8mUiCEqEo9qnln4k2h\n"
     ]
    }
   ],
   "source": [
    "#data = kite.generate_session(request_token, api_secret=api_secret)\n",
    "#access_token = data[\"access_token\"]\n",
    "access_token = 'vi1wl6l41InTOc8mUiCEqEo9qnln4k2h'\n",
    "kite.set_access_token(access_token)\n",
    "print(access_token)"
   ]
  },
  {
   "cell_type": "code",
   "execution_count": 12,
   "metadata": {
    "scrolled": true
   },
   "outputs": [
    {
     "name": "stderr",
     "output_type": "stream",
     "text": [
      "DEBUG:urllib3.connectionpool:Starting new HTTPS connection (1): api.kite.trade:443\n",
      "DEBUG:urllib3.connectionpool:https://api.kite.trade:443 \"GET /user/profile HTTP/1.1\" 200 None\n"
     ]
    },
    {
     "name": "stdout",
     "output_type": "stream",
     "text": [
      "{'user_id': 'ED5107', 'user_type': 'individual', 'email': 'ramanathannalini@gmail.com', 'user_name': 'Nalini Ramanathan', 'user_shortname': 'Nalini', 'broker': 'ZERODHA', 'exchanges': ['BSE', 'BFO', 'CDS', 'NFO', 'MF', 'NSE'], 'products': ['CNC', 'NRML', 'MIS', 'BO', 'CO'], 'order_types': ['MARKET', 'LIMIT', 'SL', 'SL-M'], 'avatar_url': '', 'meta': {'demat_consent': 'consent'}}\n"
     ]
    }
   ],
   "source": [
    "print(kite.profile())"
   ]
  },
  {
   "cell_type": "markdown",
   "metadata": {},
   "source": [
    "# Get Instrument Tokens"
   ]
  },
  {
   "cell_type": "code",
   "execution_count": 13,
   "metadata": {},
   "outputs": [],
   "source": [
    "def get_instrument_token(tradingsymbol, instrument_type, exchange):\n",
    "    instruments = pd.DataFrame(kite.instruments())\n",
    "    instrument_token = instruments[(instruments['tradingsymbol']==tradingsymbol) & (instruments['instrument_type']==instrument_type) & (instruments['exchange']==exchange)]['instrument_token'].to_list()[0]\n",
    "    return str(instrument_token)"
   ]
  },
  {
   "cell_type": "markdown",
   "metadata": {},
   "source": [
    "# Get Historical Data"
   ]
  },
  {
   "cell_type": "code",
   "execution_count": 14,
   "metadata": {},
   "outputs": [],
   "source": [
    "def get_historical_data(instrument_token, from_date, to_date, interval):\n",
    "    return pd.DataFrame(kite.historical_data(instrument_token=instrument_token,\n",
    "                                    from_date=from_date, \n",
    "                                   to_date=to_date,\n",
    "                                   interval=interval))"
   ]
  },
  {
   "cell_type": "markdown",
   "metadata": {},
   "source": [
    "# Get Exponential Moving Average"
   ]
  },
  {
   "cell_type": "code",
   "execution_count": 15,
   "metadata": {},
   "outputs": [],
   "source": [
    "def get_exponential_moving_avg(timeseries, span):\n",
    "    \"\"\"\n",
    "    adjust=False specifies that we are interested in the recursive calculation mode.\n",
    "    \"\"\"\n",
    "    timeseries[str(span)+'d_EMAvg'] = timeseries.iloc[:,0].ewm(span=span, adjust=False).mean()\n",
    "    return timeseries"
   ]
  },
  {
   "cell_type": "markdown",
   "metadata": {},
   "source": [
    "# Stochastic Momentum Indicator"
   ]
  },
  {
   "cell_type": "code",
   "execution_count": 16,
   "metadata": {},
   "outputs": [],
   "source": [
    "def get_smi(hist_data, k_period = 10, k_smooth_period = 3, d_smooth_period = 3, d_period = 10):\n",
    "    close = pd.DataFrame({'date':[datetime.strftime(d, \"%Y-%m-%d %H:%M:%S\") for d in list(hist_data['date'])],'close':list(hist_data['close'])})\n",
    "    highest_high = pd.DataFrame(data=list(hist_data['high']), columns=['highest_high']).rolling(k_period, min_periods=1).max()\n",
    "    lowest_low = pd.DataFrame(data=list(hist_data['low']), columns=['lowest_low']).rolling(k_period, min_periods=1).min()\n",
    "    mean_hl = pd.DataFrame(data=(highest_high['highest_high']+lowest_low['lowest_low'])*0.5, columns=['mean_hl'])\n",
    "    hh_minus_ll = pd.DataFrame(data=(highest_high['highest_high']-lowest_low['lowest_low']), columns=['hh_minus_ll'])\n",
    "    close_minus_mean_hl = pd.DataFrame(data=(close['close']-mean_hl['mean_hl']), columns=['close_minus_mean_hl'])\n",
    "    emavg_cmmhl = pd.DataFrame(data=list(close_minus_mean_hl['close_minus_mean_hl'].ewm(span=k_smooth_period, adjust=False).mean()), columns=['emavg_cmmhl'])\n",
    "    emavg_emavg_cmmhl = pd.DataFrame(data=list(emavg_cmmhl['emavg_cmmhl'].ewm(span=k_smooth_period, adjust=False).mean()), columns=['emavg_emavg_cmmhl'])\n",
    "    emavg_hhmll = pd.DataFrame(data=list(hh_minus_ll['hh_minus_ll'].ewm(span=d_smooth_period, adjust=False).mean()), columns=['emavg_hhmll'])\n",
    "    emavg_emavg_hhmll = pd.DataFrame(data=list(emavg_hhmll['emavg_hhmll'].ewm(span=d_smooth_period, adjust=False).mean()), columns=['emavg_emavg_hhmll'])\n",
    "    smi = pd.DataFrame(data=100*(emavg_emavg_cmmhl['emavg_emavg_cmmhl']/(emavg_emavg_hhmll['emavg_emavg_hhmll']/2)), columns=['smi'])\n",
    "    signal = pd.DataFrame(data=list(smi['smi'].ewm(span=d_period, adjust=False).mean()), columns=['signal'])\n",
    "    smi_df = pd.concat([close, smi, signal],axis=1)\n",
    "    smi_df.set_index('date', drop=True, inplace=True)\n",
    "    return smi_df"
   ]
  },
  {
   "cell_type": "markdown",
   "metadata": {},
   "source": [
    "# Zerodha Testing LIVE Deployment TradeLog"
   ]
  },
  {
   "cell_type": "code",
   "execution_count": 17,
   "metadata": {},
   "outputs": [],
   "source": [
    "def get_quote(exchange, tradingsymbol):\n",
    "    for _ in range(5):\n",
    "        try:\n",
    "            quote = kite.quote(exchange+\":\"+tradingsymbol)[exchange+\":\"+tradingsymbol]\n",
    "            break\n",
    "        except requests.exceptions.ReadTimeout as e:\n",
    "            logging.exception(\"Timeout Error - while getting ltp: \\n %s\", e)\n",
    "            logging.info(\"Retrying\")\n",
    "            sleep(1)\n",
    "            continue\n",
    "    return quote"
   ]
  },
  {
   "cell_type": "code",
   "execution_count": 18,
   "metadata": {},
   "outputs": [],
   "source": [
    "def create_candle(price, latest_candle, candle_data, all_prices, current_candle_timestamp):\n",
    "    # Add latest price to latest_candle data\n",
    "    latest_candle.loc[len(latest_candle)] = price\n",
    "    \n",
    "    # get OHLC for latest candle\n",
    "    price_list = list(latest_candle['price'])\n",
    "    actual_high = max(price_list)\n",
    "    actual_low = min(price_list)\n",
    "    actual_close = price_list[-1]\n",
    "    actual_open = price_list[0]\n",
    "    \n",
    "    if actual_open < actual_close:\n",
    "        color = 'green'\n",
    "    else:\n",
    "        color = 'red'\n",
    "    \n",
    "    # Add to candle data\n",
    "    candle_data.loc[len(candle_data)] = [datetime.strftime(current_candle_timestamp, \"%Y-%m-%d %H:%M:%S\"), actual_open, actual_high, actual_low, actual_close, color]\n",
    "    all_prices = pd.concat([all_prices, latest_candle])\n",
    "    \n",
    "    # Update variables for next candle\n",
    "    latest_candle = pd.DataFrame(columns=['price'])\n",
    "    \n",
    "    return latest_candle, candle_data, all_prices, color, price_list"
   ]
  },
  {
   "cell_type": "code",
   "execution_count": 19,
   "metadata": {},
   "outputs": [],
   "source": [
    "def its_transaction_time(candle_data, short_term_emavg_duration, long_term_emavg_duration, current_candle_timestamp, price_log, current_status, current_transaction_type, trade_log, transaction_price):\n",
    "    emav_df = pd.DataFrame({'date':list(candle_data['Candle']),'price':list(candle_data['Close'])}).set_index('date', drop=True)\n",
    "    for window in [short_term_emavg_duration, long_term_emavg_duration]:\n",
    "        emav_df = get_exponential_moving_avg(emav_df, window)\n",
    "    current_time = datetime.strftime(current_candle_timestamp, \"%Y-%m-%d %H:%M:%S\")\n",
    "    current_price = emav_df.loc[current_time, 'price']\n",
    "    current_short_term_mavg = emav_df.loc[current_time, str(short_term_emavg_duration)+'d_EMAvg']\n",
    "    current_long_term_mavg = emav_df.loc[current_time, str(long_term_emavg_duration)+'d_EMAvg']\n",
    "    price_log.loc[len(price_log)]=[current_time, current_price, current_short_term_mavg, current_long_term_mavg]\n",
    "    \n",
    "    if current_short_term_mavg>current_long_term_mavg:\n",
    "        transaction_type='buy'\n",
    "        if current_status=='closed':\n",
    "            trade_log, current_transaction_type, current_status = place_trade(trade_log, current_time=current_time, current_price=current_price, current_short_term_mavg=current_short_term_mavg, current_long_term_mavg=current_long_term_mavg, current_transaction_type=transaction_type)\n",
    "        elif current_status=='open' and current_transaction_type=='sell':\n",
    "            trade_log, current_transaction_type, current_status = place_trade(trade_log, current_time=current_time, current_price=current_price, current_short_term_mavg=current_short_term_mavg, current_long_term_mavg=current_long_term_mavg, current_transaction_type=transaction_type)\n",
    "            trade_log, current_transaction_type, current_status = place_trade(trade_log, current_time=current_time, current_price=current_price, current_short_term_mavg=current_short_term_mavg, current_long_term_mavg=current_long_term_mavg, current_transaction_type=transaction_type)\n",
    "        elif current_status=='open' and current_transaction_type=='buy':\n",
    "            current_price = transaction_price\n",
    "    elif current_short_term_mavg<current_long_term_mavg:\n",
    "        transaction_type='sell'\n",
    "        if current_status=='closed':\n",
    "            trade_log, current_transaction_type, current_status = place_trade(trade_log, current_time=current_time, current_price=current_price, current_short_term_mavg=current_short_term_mavg, current_long_term_mavg=current_long_term_mavg, current_transaction_type=transaction_type)\n",
    "        elif current_status=='open' and current_transaction_type=='buy':\n",
    "            trade_log, current_transaction_type, current_status = place_trade(trade_log, current_time=current_time, current_price=current_price, current_short_term_mavg=current_short_term_mavg, current_long_term_mavg=current_long_term_mavg, current_transaction_type=transaction_type)\n",
    "            trade_log, current_transaction_type, current_status = place_trade(trade_log, current_time=current_time, current_price=current_price, current_short_term_mavg=current_short_term_mavg, current_long_term_mavg=current_long_term_mavg, current_transaction_type=transaction_type)\n",
    "        elif current_status=='open' and current_transaction_type=='sell':\n",
    "            current_price = transaction_price\n",
    "    return price_log, trade_log, current_price, current_transaction_type, current_status"
   ]
  },
  {
   "cell_type": "code",
   "execution_count": 20,
   "metadata": {},
   "outputs": [],
   "source": [
    "def shut_up_shop(latest_candle, candle_data, all_prices, current_candle_timestamp, short_term_emavg_duration, long_term_emavg_duration, price_log, current_status, current_transaction_type, trade_log):\n",
    "    # get OHLC for latest candle\n",
    "    price_list = list(latest_candle['price'])\n",
    "    actual_high = max(price_list)\n",
    "    actual_low = min(price_list)\n",
    "    actual_close = price_list[-1]\n",
    "    actual_open = price_list[0]\n",
    "    \n",
    "    if actual_open < actual_close:\n",
    "        color = 'green'\n",
    "    else:\n",
    "        color = 'red'\n",
    "    \n",
    "    # Add to candle data\n",
    "    candle_data.loc[len(candle_data)] = [datetime.strftime(current_candle_timestamp, \"%Y-%m-%d %H:%M:%S\"), actual_open, actual_high, actual_low, actual_close, color]\n",
    "    all_prices = pd.concat([all_prices, latest_candle])\n",
    "    \n",
    "    # Update variables for next candle\n",
    "    latest_candle = pd.DataFrame(columns=['price'])\n",
    "    \n",
    "    emav_df = pd.DataFrame({'date':list(candle_data['Candle']),'price':list(candle_data['Close'])}).set_index('date', drop=True)\n",
    "    for window in [short_term_emavg_duration, long_term_emavg_duration]:\n",
    "        emav_df = get_exponential_moving_avg(emav_df, window)\n",
    "    current_time = datetime.strftime(current_candle_timestamp, \"%Y-%m-%d %H:%M:%S\")\n",
    "    current_price = emav_df.loc[current_time, 'price']\n",
    "    current_short_term_mavg = emav_df.loc[current_time, str(short_term_emavg_duration)+'d_EMAvg']\n",
    "    current_long_term_mavg = emav_df.loc[current_time, str(long_term_emavg_duration)+'d_EMAvg']\n",
    "    price_log.loc[len(price_log)]=[current_time, current_price, current_short_term_mavg, current_long_term_mavg]\n",
    "    \n",
    "    if current_status=='open':\n",
    "        if current_transaction_type=='buy':\n",
    "            transaction_type='sell'\n",
    "            trade_log, current_transaction_type, current_status = place_trade(trade_log, current_time=current_time, current_price=current_price, current_short_term_mavg=current_short_term_mavg, current_long_term_mavg=current_long_term_mavg, current_transaction_type=transaction_type)\n",
    "        if current_transaction_type=='sell':\n",
    "            transaction_type='buy'\n",
    "            trade_log, current_transaction_type, current_status = place_trade(trade_log, current_time=current_time, current_price=current_price, current_short_term_mavg=current_short_term_mavg, current_long_term_mavg=current_long_term_mavg, current_transaction_type=transaction_type)\n",
    "    else:\n",
    "        pass\n",
    "    return latest_candle, candle_data, all_prices, color, price_log, trade_log, current_price, current_transaction_type, current_status"
   ]
  },
  {
   "cell_type": "code",
   "execution_count": 21,
   "metadata": {},
   "outputs": [],
   "source": [
    "def calculate_pnl(current_transaction_type, transaction_price, price):\n",
    "    if current_transaction_type == 'buy':\n",
    "        pnl = price - transaction_price\n",
    "    elif current_transaction_type == 'sell':\n",
    "        pnl = transaction_price - price\n",
    "    return pnl"
   ]
  },
  {
   "cell_type": "code",
   "execution_count": 22,
   "metadata": {},
   "outputs": [],
   "source": [
    "def exit_manoeuvre(price, candle_data, current_candle_timestamp, short_term_emavg_duration, long_term_emavg_duration, current_transaction_type, trade_log):\n",
    "    emav_df = pd.DataFrame({'date':list(candle_data['Candle'])+[datetime.strftime(current_candle_timestamp, \"%Y-%m-%d %H:%M:%S\")],'price':list(candle_data['Close'])+[price]}).set_index('date', drop=True)\n",
    "    for window in [short_term_emavg_duration, long_term_emavg_duration]:\n",
    "        emav_df = get_exponential_moving_avg(emav_df, window)\n",
    "    current_time = datetime.strftime(current_candle_timestamp, \"%Y-%m-%d %H:%M:%S\")\n",
    "    current_price = emav_df.loc[current_time, 'price']\n",
    "    current_short_term_mavg = emav_df.loc[current_time, str(short_term_emavg_duration)+'d_EMAvg']\n",
    "    current_long_term_mavg = emav_df.loc[current_time, str(long_term_emavg_duration)+'d_EMAvg']\n",
    "    if current_transaction_type == 'buy':\n",
    "        transaction_type = 'sell'\n",
    "        trade_log, current_transaction_type, current_status = place_trade(trade_log, current_time=current_time, current_price=current_price, current_short_term_mavg=current_short_term_mavg, current_long_term_mavg=current_long_term_mavg, current_transaction_type=transaction_type)\n",
    "    elif current_transaction_type == 'sell':\n",
    "        transaction_type = 'buy'\n",
    "        trade_log, current_transaction_type, current_status = place_trade(trade_log, current_time=current_time, current_price=current_price, current_short_term_mavg=current_short_term_mavg, current_long_term_mavg=current_long_term_mavg, current_transaction_type=transaction_type)\n",
    "    return trade_log, current_price, current_transaction_type, current_status"
   ]
  },
  {
   "cell_type": "code",
   "execution_count": 23,
   "metadata": {},
   "outputs": [],
   "source": [
    "def place_trade(trade_log, current_time, current_price, current_short_term_mavg, current_long_term_mavg, current_transaction_type):\n",
    "    if len(trade_log)==0 or trade_log.loc[list(trade_log.index)[-1], 'status']=='closed':\n",
    "        current_status = 'open'\n",
    "    elif trade_log.loc[list(trade_log.index)[-1], 'status']=='open':\n",
    "        current_status = 'closed'\n",
    "    trade_log.loc[len(trade_log)] = [current_time, current_price, current_short_term_mavg, current_long_term_mavg, current_transaction_type, current_status]\n",
    "    print(current_time, current_transaction_type, current_price, current_status)\n",
    "    return trade_log, current_transaction_type, current_status"
   ]
  },
  {
   "cell_type": "markdown",
   "metadata": {},
   "source": [
    "# Pre-Flight Checks"
   ]
  },
  {
   "cell_type": "markdown",
   "metadata": {},
   "source": [
    "### WARNING: Don't forget to update the date and time in 'deply_till' variable"
   ]
  },
  {
   "cell_type": "code",
   "execution_count": 24,
   "metadata": {},
   "outputs": [],
   "source": [
    "#INSTRUMENT DATA\n",
    "tradingsymbol = 'BANKNIFTY20SEPFUT'\n",
    "instrument_type = 'FUT'\n",
    "exchange = 'NFO'\n",
    "\n",
    "# TRADE DETAILS\n",
    "qty = 1\n",
    "order_type='MARKET'\n",
    "product='MIS'\n",
    "variety='regular'\n",
    "\n",
    "# CHART SPECIFICATIONS\n",
    "candle_size = '3minute'\n",
    "short_term_emavg_duration = 4\n",
    "long_term_emavg_duration = 14\n",
    "\n",
    "# DEPLOYMENT DURATION\n",
    "deploy_till = datetime(year=2020, month=9, day=1, hour=15 , minute=30 , second=0)\n",
    "\n",
    "# first transaction time\n",
    "candle = 3\n",
    "transaction_buffer = 3\n",
    "target = 100\n",
    "profit_buffer = 40\n",
    "stop_loss = -100"
   ]
  },
  {
   "cell_type": "markdown",
   "metadata": {},
   "source": [
    "# THE PAYLOAD"
   ]
  },
  {
   "cell_type": "code",
   "execution_count": 25,
   "metadata": {
    "scrolled": true
   },
   "outputs": [
    {
     "name": "stderr",
     "output_type": "stream",
     "text": [
      "DEBUG:urllib3.connectionpool:Starting new HTTPS connection (1): api.kite.trade:443\n",
      "DEBUG:urllib3.connectionpool:https://api.kite.trade:443 \"GET /instruments HTTP/1.1\" 200 860307\n"
     ]
    }
   ],
   "source": [
    "instoken = get_instrument_token(tradingsymbol, instrument_type, exchange)"
   ]
  },
  {
   "cell_type": "code",
   "execution_count": null,
   "metadata": {},
   "outputs": [],
   "source": [
    "current_candle_timestamp = datetime(2020, 9, 2, 9, 15, 0)\n",
    "latest_candle = pd.DataFrame(columns=['price'])\n",
    "candle_data = pd.DataFrame(columns=['Candle','Open','High','Low','Close','Color'])\n",
    "all_prices = pd.DataFrame(columns=['price'])\n",
    "price_log = pd.DataFrame(columns=['time','price',str(short_term_emavg_duration)+'d_EMAvg',str(long_term_emavg_duration)+'d_EMAvg'])\n",
    "trade_log = pd.DataFrame(columns=['time','price',str(short_term_emavg_duration)+'d_EMAvg',str(long_term_emavg_duration)+'d_EMAvg','transaction_type','status'])\n",
    "current_status = \"closed\"\n",
    "pnl = 0\n",
    "\n",
    "while datetime.now < deploy_till:\n",
    "    sleep(1)\n",
    "    quote = get_quote(exchange, tradingsymbol)\n",
    "    price = quote['last_price']\n",
    "    timestamp = datetime.now()\n",
    "    \n",
    "    if (current_candle_timestamp+timedelta(minutes=candle)-timestamp).seconds > transaction_buffer:\n",
    "        latest_candle.loc[len(latest_candle)] = price\n",
    "    else:\n",
    "        latest_candle, candle_data, all_prices, color, price_list = create_candle(price, latest_candle, candle_data, all_prices, current_candle_timestamp)\n",
    "        price_log, trade_log, transaction_price, current_transaction_type, current_status = its_transaction_time(candle_data, short_term_emavg_duration, long_term_emavg_duration, current_candle_timestamp, price_log, current_status, current_transaction_type, trade_log, transaction_price)\n",
    "        pnl = 0\n",
    "        current_candle_timestamp = current_candle_timestamp+timedelta(minutes=candle)\n",
    "        sleep(transaction_buffer-1)\n",
    "    \n",
    "    # If end of day is reached\n",
    "    if datetime.strftime(timestamp, \"%H:%M\")==datetime.strftime(deploy_till-timedelta(minutes=2), \"%H:%M\"):\n",
    "        if current_status == 'open':\n",
    "            latest_candle, candle_data, all_prices, color, price_log, trade_log, transaction_price, current_transaction_type, current_status = shut_up_shop(latest_candle, candle_data, all_prices, current_candle_timestamp, short_term_emavg_duration, long_term_emavg_duration, price_log, current_status, current_transaction_type, trade_log)\n",
    "            pnl = 0\n",
    "        break\n",
    "    \n",
    "    # PnL calculation\n",
    "    pnl = calculate_pnl(current_transaction_type, transaction_price, price)\n",
    "    \n",
    "    # stoploss implementation\n",
    "    if pnl <= stoploss:\n",
    "        trade_log, current_price, current_transaction_type, current_status = exit_manoeuvre(price, candle_data, current_candle_timestamp, short_term_emavg_duration, long_term_emavg_duration, current_transaction_type, trade_log)\n",
    "        pnl = 0\n",
    "    \n",
    "    # trailing stoploss implementation\n",
    "    if pnl >= target:\n",
    "        trailing_stoploss = pnl - profit_buffer\n",
    "        highest_pnl = pnl\n",
    "        while pnl:\n",
    "            quote = get_quote(exchange, tradingsymbol)\n",
    "            price = quote['last_price']\n",
    "            timestamp = datetime.now()\n",
    "            \n",
    "            if (current_candle_timestamp+timedelta(minutes=candle)-timestamp).seconds > transaction_buffer:\n",
    "                latest_candle.loc[len(latest_candle)] = price\n",
    "            else:\n",
    "                latest_candle, candle_data, all_prices, color, price_list = create_candle(price, latest_candle, candle_data, all_prices, current_candle_timestamp)\n",
    "                current_candle_timestamp = current_candle_timestamp+timedelta(minutes=candle)\n",
    "                sleep(transaction_buffer-1)\n",
    "            \n",
    "            # If end of day is reached\n",
    "            if datetime.strftime(timestamp, \"%H:%M\")==datetime.strftime(deploy_till-timedelta(minutes=2), \"%H:%M\"):\n",
    "                latest_candle, candle_data, all_prices, color, price_log, trade_log, transaction_price, current_transaction_type, current_status = shut_up_shop(latest_candle, candle_data, all_prices, current_candle_timestamp, short_term_emavg_duration, long_term_emavg_duration, price_log, current_status, current_transaction_type, trade_log)\n",
    "                trailing_stoploss = 0\n",
    "                highest_pnl = 0\n",
    "                pnl = 0\n",
    "                break\n",
    "            \n",
    "            # Calculate PnL\n",
    "            pnl = calculate_pnl(current_transaction_type, transaction_price, price)\n",
    "            \n",
    "            if pnl < trailing_stoploss:\n",
    "                # exit current position\n",
    "                trade_log, current_price, current_transaction_type, current_status = exit_manoeuvre(price, candle_data, current_candle_timestamp, short_term_emavg_duration, long_term_emavg_duration, current_transaction_type, trade_log)\n",
    "                trailing_stoploss = 0\n",
    "                highest_pnl = 0\n",
    "                pnl = 0\n",
    "                break\n",
    "            \n",
    "            elif pnl>trailing_stoploss and pnl<highest_pnl:\n",
    "                pass\n",
    "            \n",
    "            elif pnl>highest_pnl:\n",
    "                # update trailing stoploss and highest pnl\n",
    "                trailing_stoploss = pnl - profit_buffer\n",
    "                highest_pnl = pnl"
   ]
  },
  {
   "cell_type": "code",
   "execution_count": 21,
   "metadata": {},
   "outputs": [],
   "source": [
    "trade_log.to_excel('LIVE Deployment Logs\\RUN1A-HD-20200901-3min_candle_prev_candle_close_4vs14_emavg.xlsx')"
   ]
  },
  {
   "cell_type": "code",
   "execution_count": null,
   "metadata": {},
   "outputs": [],
   "source": []
  },
  {
   "cell_type": "code",
   "execution_count": 21,
   "metadata": {},
   "outputs": [
    {
     "data": {
      "text/plain": [
       "120"
      ]
     },
     "execution_count": 21,
     "metadata": {},
     "output_type": "execute_result"
    }
   ],
   "source": [
    "(datetime(2020, 9, 1, 13, 0) - datetime(2020, 9, 1, 12, 58)).seconds"
   ]
  },
  {
   "cell_type": "code",
   "execution_count": null,
   "metadata": {},
   "outputs": [],
   "source": []
  }
 ],
 "metadata": {
  "kernelspec": {
   "display_name": "Python 3",
   "language": "python",
   "name": "python3"
  },
  "language_info": {
   "codemirror_mode": {
    "name": "ipython",
    "version": 3
   },
   "file_extension": ".py",
   "mimetype": "text/x-python",
   "name": "python",
   "nbconvert_exporter": "python",
   "pygments_lexer": "ipython3",
   "version": "3.7.4"
  }
 },
 "nbformat": 4,
 "nbformat_minor": 2
}
