{
 "cells": [
  {
   "cell_type": "code",
   "execution_count": 1,
   "metadata": {},
   "outputs": [],
   "source": [
    "from kiteconnect import KiteConnect"
   ]
  },
  {
   "cell_type": "code",
   "execution_count": 2,
   "metadata": {},
   "outputs": [],
   "source": [
    "import logging\n",
    "import requests"
   ]
  },
  {
   "cell_type": "code",
   "execution_count": 3,
   "metadata": {},
   "outputs": [],
   "source": [
    "import pandas as pd"
   ]
  },
  {
   "cell_type": "code",
   "execution_count": 4,
   "metadata": {},
   "outputs": [],
   "source": [
    "from datetime import datetime"
   ]
  },
  {
   "cell_type": "code",
   "execution_count": 5,
   "metadata": {},
   "outputs": [],
   "source": [
    "api_key = \"f5ean4aaxq3wv9n3\"\n",
    "client_id = \"ED5107\"\n",
    "api_secret = \"s1kbs5y654zhbpqgd2rvslqc6shx9yh8\""
   ]
  },
  {
   "cell_type": "code",
   "execution_count": 6,
   "metadata": {},
   "outputs": [
    {
     "name": "stdout",
     "output_type": "stream",
     "text": [
      "https://kite.trade/connect/login?api_key=f5ean4aaxq3wv9n3&v=3\n"
     ]
    }
   ],
   "source": [
    "logging.basicConfig(level=logging.DEBUG)\n",
    "kite = KiteConnect(api_key=api_key)\n",
    "print(kite.login_url())"
   ]
  },
  {
   "cell_type": "code",
   "execution_count": 8,
   "metadata": {},
   "outputs": [],
   "source": [
    "#r = requests.get(kite.login_url())\n",
    "#redirect_link = r.url\n",
    "#print(redirect_link)\n",
    "#request_token = redirect_link[]"
   ]
  },
  {
   "cell_type": "code",
   "execution_count": 9,
   "metadata": {},
   "outputs": [],
   "source": [
    "# Get the Request Token from the redirect URL\n",
    "\n",
    "request_token = \"W91wuVjO9YEj6qNwBM9F3SmrwK936XtD\""
   ]
  },
  {
   "cell_type": "markdown",
   "metadata": {},
   "source": [
    "# Get Access Token"
   ]
  },
  {
   "cell_type": "code",
   "execution_count": 10,
   "metadata": {},
   "outputs": [
    {
     "name": "stderr",
     "output_type": "stream",
     "text": [
      "DEBUG:urllib3.connectionpool:Starting new HTTPS connection (1): api.kite.trade:443\n",
      "DEBUG:urllib3.connectionpool:https://api.kite.trade:443 \"POST /session/token HTTP/1.1\" 200 None\n"
     ]
    },
    {
     "name": "stdout",
     "output_type": "stream",
     "text": [
      "YUkv02Pc0qXPbwYVdfGPasvNmHgqgjRw\n"
     ]
    }
   ],
   "source": [
    "data = kite.generate_session(request_token, api_secret=api_secret)\n",
    "access_token = data[\"access_token\"]\n",
    "kite.set_access_token(access_token)\n",
    "print(access_token)"
   ]
  },
  {
   "cell_type": "code",
   "execution_count": 11,
   "metadata": {
    "scrolled": true
   },
   "outputs": [
    {
     "name": "stderr",
     "output_type": "stream",
     "text": [
      "DEBUG:urllib3.connectionpool:Starting new HTTPS connection (1): api.kite.trade:443\n",
      "DEBUG:urllib3.connectionpool:https://api.kite.trade:443 \"GET /user/profile HTTP/1.1\" 200 None\n"
     ]
    },
    {
     "name": "stdout",
     "output_type": "stream",
     "text": [
      "{'user_id': 'ED5107', 'user_type': 'individual', 'email': 'ramanathannalini@gmail.com', 'user_name': 'Nalini Ramanathan', 'user_shortname': 'Nalini', 'broker': 'ZERODHA', 'exchanges': ['NFO', 'MF', 'NSE', 'BFO', 'CDS', 'BSE'], 'products': ['CNC', 'NRML', 'MIS', 'BO', 'CO'], 'order_types': ['MARKET', 'LIMIT', 'SL', 'SL-M'], 'avatar_url': None, 'meta': {'demat_consent': 'consent'}}\n"
     ]
    }
   ],
   "source": [
    "print(kite.profile())"
   ]
  },
  {
   "cell_type": "markdown",
   "metadata": {},
   "source": [
    "# NOTE:\n",
    "# After every request ensure that you sleep for 0.5 second because there is a limit of a maximum of  3 requests per second."
   ]
  },
  {
   "cell_type": "markdown",
   "metadata": {},
   "source": [
    "# Placing a trade"
   ]
  },
  {
   "cell_type": "code",
   "execution_count": 20,
   "metadata": {},
   "outputs": [],
   "source": [
    "def place_order(trading_symbol, exchange, qty, transaction_type, product, order_type, variety='regular',price=None,validity=None,disclosed_quantity=None,trigger_price=None,squareoff=None,stoploss=None,trailing_stoploss=None, tag=None):\n",
    "    \"\"\"\n",
    "    Refer: https://kite.trade/docs/connect/v3/orders/\n",
    "    \n",
    "    tradingsymbol Eg RELIANCE, \n",
    "    exchange => ['MF', 'NSE', 'NFO', 'CDS', 'BSE', 'BFO'],\n",
    "    quantity as integer,\n",
    "    variety is 'regular' by default,\n",
    "    transaction_type => 'BUY' or 'SELL',\n",
    "    product Eg 'CNC' for Equity,\n",
    "    order_type => ['MARKET', 'LIMIT', 'SL', 'SL-M'],\n",
    "    price=None,\n",
    "    validity=None,\n",
    "    disclosed_quantity=None,\n",
    "    trigger_price=None,\n",
    "    squareoff=None,\n",
    "    stoploss=None,\n",
    "    trailing_stoploss=None,\n",
    "    tag=None\n",
    "    \"\"\"\n",
    "    order_id = kite.place_order(tradingsymbol=trading_symbol, \n",
    "                     exchange=exchange,\n",
    "                     quantity=qty,\n",
    "                     variety=variety,\n",
    "                     transaction_type=transaction_type,\n",
    "                     product=product,\n",
    "                     order_type=order_type,\n",
    "                     price=price,\n",
    "                     validity=validity,\n",
    "                     disclosed_quantity=disclosed_quantity,\n",
    "                     trigger_price=trigger_price,\n",
    "                     squareoff=squareoff,\n",
    "                     stoploss=stoploss,\n",
    "                     trailing_stoploss=trailing_stoploss,\n",
    "                     tag=tag)\n",
    "    return order_id"
   ]
  },
  {
   "cell_type": "markdown",
   "metadata": {},
   "source": [
    "# Get Instrument IDs"
   ]
  },
  {
   "cell_type": "code",
   "execution_count": 21,
   "metadata": {},
   "outputs": [
    {
     "name": "stderr",
     "output_type": "stream",
     "text": [
      "DEBUG:urllib3.connectionpool:Starting new HTTPS connection (1): api.kite.trade:443\n",
      "DEBUG:urllib3.connectionpool:https://api.kite.trade:443 \"GET /instruments HTTP/1.1\" 200 897305\n"
     ]
    }
   ],
   "source": [
    "instruments = pd.DataFrame(kite.instruments())\n",
    "instruments.to_excel('Instruments.xlsx', index=False)"
   ]
  },
  {
   "cell_type": "code",
   "execution_count": 25,
   "metadata": {},
   "outputs": [
    {
     "data": {
      "text/html": [
       "<div>\n",
       "<style scoped>\n",
       "    .dataframe tbody tr th:only-of-type {\n",
       "        vertical-align: middle;\n",
       "    }\n",
       "\n",
       "    .dataframe tbody tr th {\n",
       "        vertical-align: top;\n",
       "    }\n",
       "\n",
       "    .dataframe thead th {\n",
       "        text-align: right;\n",
       "    }\n",
       "</style>\n",
       "<table border=\"1\" class=\"dataframe\">\n",
       "  <thead>\n",
       "    <tr style=\"text-align: right;\">\n",
       "      <th></th>\n",
       "      <th>instrument_token</th>\n",
       "      <th>exchange_token</th>\n",
       "      <th>tradingsymbol</th>\n",
       "      <th>name</th>\n",
       "      <th>last_price</th>\n",
       "      <th>expiry</th>\n",
       "      <th>strike</th>\n",
       "      <th>tick_size</th>\n",
       "      <th>lot_size</th>\n",
       "      <th>instrument_type</th>\n",
       "      <th>segment</th>\n",
       "      <th>exchange</th>\n",
       "    </tr>\n",
       "  </thead>\n",
       "  <tbody>\n",
       "    <tr>\n",
       "      <td>0</td>\n",
       "      <td>544844550</td>\n",
       "      <td>2128299</td>\n",
       "      <td>EURINR20AUG79.2500CE</td>\n",
       "      <td>EURINR</td>\n",
       "      <td>0.0</td>\n",
       "      <td>2020-08-27</td>\n",
       "      <td>79.25</td>\n",
       "      <td>0.0025</td>\n",
       "      <td>1</td>\n",
       "      <td>CE</td>\n",
       "      <td>BCD-OPT</td>\n",
       "      <td>BCD</td>\n",
       "    </tr>\n",
       "    <tr>\n",
       "      <td>1</td>\n",
       "      <td>544838918</td>\n",
       "      <td>2128277</td>\n",
       "      <td>EURINR20AUG79.2500PE</td>\n",
       "      <td>EURINR</td>\n",
       "      <td>0.0</td>\n",
       "      <td>2020-08-27</td>\n",
       "      <td>79.25</td>\n",
       "      <td>0.0025</td>\n",
       "      <td>1</td>\n",
       "      <td>PE</td>\n",
       "      <td>BCD-OPT</td>\n",
       "      <td>BCD</td>\n",
       "    </tr>\n",
       "    <tr>\n",
       "      <td>2</td>\n",
       "      <td>544788742</td>\n",
       "      <td>2128081</td>\n",
       "      <td>EURINR20AUG79.5000CE</td>\n",
       "      <td>EURINR</td>\n",
       "      <td>0.0</td>\n",
       "      <td>2020-08-27</td>\n",
       "      <td>79.50</td>\n",
       "      <td>0.0025</td>\n",
       "      <td>1</td>\n",
       "      <td>CE</td>\n",
       "      <td>BCD-OPT</td>\n",
       "      <td>BCD</td>\n",
       "    </tr>\n",
       "    <tr>\n",
       "      <td>3</td>\n",
       "      <td>544782342</td>\n",
       "      <td>2128056</td>\n",
       "      <td>EURINR20AUG79.5000PE</td>\n",
       "      <td>EURINR</td>\n",
       "      <td>0.0</td>\n",
       "      <td>2020-08-27</td>\n",
       "      <td>79.50</td>\n",
       "      <td>0.0025</td>\n",
       "      <td>1</td>\n",
       "      <td>PE</td>\n",
       "      <td>BCD-OPT</td>\n",
       "      <td>BCD</td>\n",
       "    </tr>\n",
       "    <tr>\n",
       "      <td>4</td>\n",
       "      <td>544739078</td>\n",
       "      <td>2127887</td>\n",
       "      <td>EURINR20AUG79.7500CE</td>\n",
       "      <td>EURINR</td>\n",
       "      <td>0.0</td>\n",
       "      <td>2020-08-27</td>\n",
       "      <td>79.75</td>\n",
       "      <td>0.0025</td>\n",
       "      <td>1</td>\n",
       "      <td>CE</td>\n",
       "      <td>BCD-OPT</td>\n",
       "      <td>BCD</td>\n",
       "    </tr>\n",
       "    <tr>\n",
       "      <td>...</td>\n",
       "      <td>...</td>\n",
       "      <td>...</td>\n",
       "      <td>...</td>\n",
       "      <td>...</td>\n",
       "      <td>...</td>\n",
       "      <td>...</td>\n",
       "      <td>...</td>\n",
       "      <td>...</td>\n",
       "      <td>...</td>\n",
       "      <td>...</td>\n",
       "      <td>...</td>\n",
       "      <td>...</td>\n",
       "    </tr>\n",
       "    <tr>\n",
       "      <td>65969</td>\n",
       "      <td>1945089</td>\n",
       "      <td>7598</td>\n",
       "      <td>ZODJRDMKJ-BE</td>\n",
       "      <td>ZODIAC JRD MKJ-</td>\n",
       "      <td>0.0</td>\n",
       "      <td></td>\n",
       "      <td>0.00</td>\n",
       "      <td>0.0500</td>\n",
       "      <td>1</td>\n",
       "      <td>EQ</td>\n",
       "      <td>NSE</td>\n",
       "      <td>NSE</td>\n",
       "    </tr>\n",
       "    <tr>\n",
       "      <td>65970</td>\n",
       "      <td>2916865</td>\n",
       "      <td>11394</td>\n",
       "      <td>ZOTA</td>\n",
       "      <td>ZOTA HEALTH CARE</td>\n",
       "      <td>0.0</td>\n",
       "      <td></td>\n",
       "      <td>0.00</td>\n",
       "      <td>0.0500</td>\n",
       "      <td>1</td>\n",
       "      <td>EQ</td>\n",
       "      <td>NSE</td>\n",
       "      <td>NSE</td>\n",
       "    </tr>\n",
       "    <tr>\n",
       "      <td>65971</td>\n",
       "      <td>7436801</td>\n",
       "      <td>29050</td>\n",
       "      <td>ZUARI</td>\n",
       "      <td>ZUARI AGRO CHEMICALS</td>\n",
       "      <td>0.0</td>\n",
       "      <td></td>\n",
       "      <td>0.00</td>\n",
       "      <td>0.0500</td>\n",
       "      <td>1</td>\n",
       "      <td>EQ</td>\n",
       "      <td>NSE</td>\n",
       "      <td>NSE</td>\n",
       "    </tr>\n",
       "    <tr>\n",
       "      <td>65972</td>\n",
       "      <td>979713</td>\n",
       "      <td>3827</td>\n",
       "      <td>ZUARIGLOB</td>\n",
       "      <td>ZUARI GLOBAL</td>\n",
       "      <td>0.0</td>\n",
       "      <td></td>\n",
       "      <td>0.00</td>\n",
       "      <td>0.0500</td>\n",
       "      <td>1</td>\n",
       "      <td>EQ</td>\n",
       "      <td>NSE</td>\n",
       "      <td>NSE</td>\n",
       "    </tr>\n",
       "    <tr>\n",
       "      <td>65973</td>\n",
       "      <td>4514561</td>\n",
       "      <td>17635</td>\n",
       "      <td>ZYDUSWELL</td>\n",
       "      <td>ZYDUS WELLNESS</td>\n",
       "      <td>0.0</td>\n",
       "      <td></td>\n",
       "      <td>0.00</td>\n",
       "      <td>0.0500</td>\n",
       "      <td>1</td>\n",
       "      <td>EQ</td>\n",
       "      <td>NSE</td>\n",
       "      <td>NSE</td>\n",
       "    </tr>\n",
       "  </tbody>\n",
       "</table>\n",
       "<p>65974 rows × 12 columns</p>\n",
       "</div>"
      ],
      "text/plain": [
       "       instrument_token exchange_token         tradingsymbol  \\\n",
       "0             544844550        2128299  EURINR20AUG79.2500CE   \n",
       "1             544838918        2128277  EURINR20AUG79.2500PE   \n",
       "2             544788742        2128081  EURINR20AUG79.5000CE   \n",
       "3             544782342        2128056  EURINR20AUG79.5000PE   \n",
       "4             544739078        2127887  EURINR20AUG79.7500CE   \n",
       "...                 ...            ...                   ...   \n",
       "65969           1945089           7598          ZODJRDMKJ-BE   \n",
       "65970           2916865          11394                  ZOTA   \n",
       "65971           7436801          29050                 ZUARI   \n",
       "65972            979713           3827             ZUARIGLOB   \n",
       "65973           4514561          17635             ZYDUSWELL   \n",
       "\n",
       "                       name  last_price      expiry  strike  tick_size  \\\n",
       "0                    EURINR         0.0  2020-08-27   79.25     0.0025   \n",
       "1                    EURINR         0.0  2020-08-27   79.25     0.0025   \n",
       "2                    EURINR         0.0  2020-08-27   79.50     0.0025   \n",
       "3                    EURINR         0.0  2020-08-27   79.50     0.0025   \n",
       "4                    EURINR         0.0  2020-08-27   79.75     0.0025   \n",
       "...                     ...         ...         ...     ...        ...   \n",
       "65969       ZODIAC JRD MKJ-         0.0                0.00     0.0500   \n",
       "65970      ZOTA HEALTH CARE         0.0                0.00     0.0500   \n",
       "65971  ZUARI AGRO CHEMICALS         0.0                0.00     0.0500   \n",
       "65972          ZUARI GLOBAL         0.0                0.00     0.0500   \n",
       "65973        ZYDUS WELLNESS         0.0                0.00     0.0500   \n",
       "\n",
       "       lot_size instrument_type  segment exchange  \n",
       "0             1              CE  BCD-OPT      BCD  \n",
       "1             1              PE  BCD-OPT      BCD  \n",
       "2             1              CE  BCD-OPT      BCD  \n",
       "3             1              PE  BCD-OPT      BCD  \n",
       "4             1              CE  BCD-OPT      BCD  \n",
       "...         ...             ...      ...      ...  \n",
       "65969         1              EQ      NSE      NSE  \n",
       "65970         1              EQ      NSE      NSE  \n",
       "65971         1              EQ      NSE      NSE  \n",
       "65972         1              EQ      NSE      NSE  \n",
       "65973         1              EQ      NSE      NSE  \n",
       "\n",
       "[65974 rows x 12 columns]"
      ]
     },
     "execution_count": 25,
     "metadata": {},
     "output_type": "execute_result"
    }
   ],
   "source": [
    "instruments"
   ]
  },
  {
   "cell_type": "markdown",
   "metadata": {},
   "source": [
    "# Get Historical Data"
   ]
  },
  {
   "cell_type": "code",
   "execution_count": 22,
   "metadata": {},
   "outputs": [],
   "source": [
    "def get_instrument_token(tradingsymbol, instrument_type, exchange):\n",
    "    instrument_token = instruments[(instruments['tradingsymbol']==tradingsymbol) & (instruments['instrument_type']==instrument_type) & (instruments['exchange']==exchange)]['instrument_token'].to_list()[0]\n",
    "    return str(instrument_token)"
   ]
  },
  {
   "cell_type": "code",
   "execution_count": 23,
   "metadata": {},
   "outputs": [],
   "source": [
    "def get_historical_data(instrument_token, from_date, to_date, interval):\n",
    "    return pd.DataFrame(kite.historical_data(instrument_token=instrument_token,\n",
    "                                    from_date=from_date, \n",
    "                                   to_date=to_date,\n",
    "                                   interval=interval))"
   ]
  },
  {
   "cell_type": "code",
   "execution_count": 27,
   "metadata": {},
   "outputs": [],
   "source": [
    "# Get Instrument Token. Our Example is for RELIANCE Equity shares in NSE.\n",
    "\n",
    "rel_instoken = get_instrument_token('RELIANCE', 'EQ', 'NSE')"
   ]
  },
  {
   "cell_type": "code",
   "execution_count": 54,
   "metadata": {},
   "outputs": [],
   "source": [
    "# Static Data: Duration and Interval Size\n",
    "# Date is a datetime object or string with format is 'yyyy-mm-dd HH:MM:SS'\n",
    "\n",
    "from_date = '2020-08-13 09:30:00'\n",
    "to_date = datetime.now()\n",
    "\n",
    "interval = '5minute'"
   ]
  },
  {
   "cell_type": "code",
   "execution_count": 57,
   "metadata": {},
   "outputs": [
    {
     "name": "stderr",
     "output_type": "stream",
     "text": [
      "DEBUG:urllib3.connectionpool:Starting new HTTPS connection (1): api.kite.trade:443\n",
      "DEBUG:urllib3.connectionpool:https://api.kite.trade:443 \"GET /instruments/historical/738561/5minute?instrument_token=738561&from=2020-08-13+09%3A30%3A00&to=2020-08-14+10%3A21%3A56&interval=5minute&continuous=0&oi=0 HTTP/1.1\" 200 1657\n"
     ]
    },
    {
     "data": {
      "text/html": [
       "<div>\n",
       "<style scoped>\n",
       "    .dataframe tbody tr th:only-of-type {\n",
       "        vertical-align: middle;\n",
       "    }\n",
       "\n",
       "    .dataframe tbody tr th {\n",
       "        vertical-align: top;\n",
       "    }\n",
       "\n",
       "    .dataframe thead th {\n",
       "        text-align: right;\n",
       "    }\n",
       "</style>\n",
       "<table border=\"1\" class=\"dataframe\">\n",
       "  <thead>\n",
       "    <tr style=\"text-align: right;\">\n",
       "      <th></th>\n",
       "      <th>date</th>\n",
       "      <th>open</th>\n",
       "      <th>high</th>\n",
       "      <th>low</th>\n",
       "      <th>close</th>\n",
       "      <th>volume</th>\n",
       "    </tr>\n",
       "  </thead>\n",
       "  <tbody>\n",
       "    <tr>\n",
       "      <td>0</td>\n",
       "      <td>2020-08-13 09:30:00+05:30</td>\n",
       "      <td>2131.60</td>\n",
       "      <td>2132.00</td>\n",
       "      <td>2127.00</td>\n",
       "      <td>2128.50</td>\n",
       "      <td>172099</td>\n",
       "    </tr>\n",
       "    <tr>\n",
       "      <td>1</td>\n",
       "      <td>2020-08-13 09:35:00+05:30</td>\n",
       "      <td>2128.00</td>\n",
       "      <td>2128.95</td>\n",
       "      <td>2122.25</td>\n",
       "      <td>2125.00</td>\n",
       "      <td>256047</td>\n",
       "    </tr>\n",
       "    <tr>\n",
       "      <td>2</td>\n",
       "      <td>2020-08-13 09:40:00+05:30</td>\n",
       "      <td>2124.45</td>\n",
       "      <td>2130.00</td>\n",
       "      <td>2124.00</td>\n",
       "      <td>2129.00</td>\n",
       "      <td>136872</td>\n",
       "    </tr>\n",
       "    <tr>\n",
       "      <td>3</td>\n",
       "      <td>2020-08-13 09:45:00+05:30</td>\n",
       "      <td>2128.60</td>\n",
       "      <td>2129.00</td>\n",
       "      <td>2125.50</td>\n",
       "      <td>2127.30</td>\n",
       "      <td>101145</td>\n",
       "    </tr>\n",
       "    <tr>\n",
       "      <td>4</td>\n",
       "      <td>2020-08-13 09:50:00+05:30</td>\n",
       "      <td>2127.35</td>\n",
       "      <td>2128.50</td>\n",
       "      <td>2125.00</td>\n",
       "      <td>2128.05</td>\n",
       "      <td>127102</td>\n",
       "    </tr>\n",
       "  </tbody>\n",
       "</table>\n",
       "</div>"
      ],
      "text/plain": [
       "                       date     open     high      low    close  volume\n",
       "0 2020-08-13 09:30:00+05:30  2131.60  2132.00  2127.00  2128.50  172099\n",
       "1 2020-08-13 09:35:00+05:30  2128.00  2128.95  2122.25  2125.00  256047\n",
       "2 2020-08-13 09:40:00+05:30  2124.45  2130.00  2124.00  2129.00  136872\n",
       "3 2020-08-13 09:45:00+05:30  2128.60  2129.00  2125.50  2127.30  101145\n",
       "4 2020-08-13 09:50:00+05:30  2127.35  2128.50  2125.00  2128.05  127102"
      ]
     },
     "execution_count": 57,
     "metadata": {},
     "output_type": "execute_result"
    }
   ],
   "source": [
    "hist_data = get_historical_data(rel_instoken, from_date, to_date, interval)\n",
    "hist_data.head()"
   ]
  },
  {
   "cell_type": "markdown",
   "metadata": {},
   "source": [
    "# Streaming Data"
   ]
  },
  {
   "cell_type": "code",
   "execution_count": 35,
   "metadata": {},
   "outputs": [],
   "source": [
    "from kiteconnect import KiteTicker"
   ]
  },
  {
   "cell_type": "code",
   "execution_count": 42,
   "metadata": {},
   "outputs": [
    {
     "ename": "ReactorNotRestartable",
     "evalue": "",
     "output_type": "error",
     "traceback": [
      "\u001b[1;31m---------------------------------------------------------------------------\u001b[0m",
      "\u001b[1;31mReactorNotRestartable\u001b[0m                     Traceback (most recent call last)",
      "\u001b[1;32m<ipython-input-42-2411078993f9>\u001b[0m in \u001b[0;36m<module>\u001b[1;34m\u001b[0m\n\u001b[0;32m     17\u001b[0m \u001b[0mpa\u001b[0m\u001b[1;33m.\u001b[0m\u001b[0mon_connect\u001b[0m \u001b[1;33m=\u001b[0m \u001b[0mon_connect\u001b[0m\u001b[1;33m\u001b[0m\u001b[1;33m\u001b[0m\u001b[0m\n\u001b[0;32m     18\u001b[0m \u001b[1;33m\u001b[0m\u001b[0m\n\u001b[1;32m---> 19\u001b[1;33m \u001b[0mpa\u001b[0m\u001b[1;33m.\u001b[0m\u001b[0mconnect\u001b[0m\u001b[1;33m(\u001b[0m\u001b[1;33m)\u001b[0m\u001b[1;33m\u001b[0m\u001b[1;33m\u001b[0m\u001b[0m\n\u001b[0m",
      "\u001b[1;32m~\\Anaconda3\\lib\\site-packages\\kiteconnect\\ticker.py\u001b[0m in \u001b[0;36mconnect\u001b[1;34m(self, threaded, disable_ssl_verification, proxy)\u001b[0m\n\u001b[0;32m    530\u001b[0m                 \u001b[0mself\u001b[0m\u001b[1;33m.\u001b[0m\u001b[0mwebsocket_thread\u001b[0m\u001b[1;33m.\u001b[0m\u001b[0mstart\u001b[0m\u001b[1;33m(\u001b[0m\u001b[1;33m)\u001b[0m\u001b[1;33m\u001b[0m\u001b[1;33m\u001b[0m\u001b[0m\n\u001b[0;32m    531\u001b[0m             \u001b[1;32melse\u001b[0m\u001b[1;33m:\u001b[0m\u001b[1;33m\u001b[0m\u001b[1;33m\u001b[0m\u001b[0m\n\u001b[1;32m--> 532\u001b[1;33m                 \u001b[0mreactor\u001b[0m\u001b[1;33m.\u001b[0m\u001b[0mrun\u001b[0m\u001b[1;33m(\u001b[0m\u001b[1;33m**\u001b[0m\u001b[0mopts\u001b[0m\u001b[1;33m)\u001b[0m\u001b[1;33m\u001b[0m\u001b[1;33m\u001b[0m\u001b[0m\n\u001b[0m\u001b[0;32m    533\u001b[0m \u001b[1;33m\u001b[0m\u001b[0m\n\u001b[0;32m    534\u001b[0m     \u001b[1;32mdef\u001b[0m \u001b[0mis_connected\u001b[0m\u001b[1;33m(\u001b[0m\u001b[0mself\u001b[0m\u001b[1;33m)\u001b[0m\u001b[1;33m:\u001b[0m\u001b[1;33m\u001b[0m\u001b[1;33m\u001b[0m\u001b[0m\n",
      "\u001b[1;32m~\\Anaconda3\\lib\\site-packages\\twisted\\internet\\base.py\u001b[0m in \u001b[0;36mrun\u001b[1;34m(self, installSignalHandlers)\u001b[0m\n\u001b[0;32m   1280\u001b[0m \u001b[1;33m\u001b[0m\u001b[0m\n\u001b[0;32m   1281\u001b[0m     \u001b[1;32mdef\u001b[0m \u001b[0mrun\u001b[0m\u001b[1;33m(\u001b[0m\u001b[0mself\u001b[0m\u001b[1;33m,\u001b[0m \u001b[0minstallSignalHandlers\u001b[0m\u001b[1;33m=\u001b[0m\u001b[1;32mTrue\u001b[0m\u001b[1;33m)\u001b[0m\u001b[1;33m:\u001b[0m\u001b[1;33m\u001b[0m\u001b[1;33m\u001b[0m\u001b[0m\n\u001b[1;32m-> 1282\u001b[1;33m         \u001b[0mself\u001b[0m\u001b[1;33m.\u001b[0m\u001b[0mstartRunning\u001b[0m\u001b[1;33m(\u001b[0m\u001b[0minstallSignalHandlers\u001b[0m\u001b[1;33m=\u001b[0m\u001b[0minstallSignalHandlers\u001b[0m\u001b[1;33m)\u001b[0m\u001b[1;33m\u001b[0m\u001b[1;33m\u001b[0m\u001b[0m\n\u001b[0m\u001b[0;32m   1283\u001b[0m         \u001b[0mself\u001b[0m\u001b[1;33m.\u001b[0m\u001b[0mmainLoop\u001b[0m\u001b[1;33m(\u001b[0m\u001b[1;33m)\u001b[0m\u001b[1;33m\u001b[0m\u001b[1;33m\u001b[0m\u001b[0m\n\u001b[0;32m   1284\u001b[0m \u001b[1;33m\u001b[0m\u001b[0m\n",
      "\u001b[1;32m~\\Anaconda3\\lib\\site-packages\\twisted\\internet\\base.py\u001b[0m in \u001b[0;36mstartRunning\u001b[1;34m(self, installSignalHandlers)\u001b[0m\n\u001b[0;32m   1260\u001b[0m         \"\"\"\n\u001b[0;32m   1261\u001b[0m         \u001b[0mself\u001b[0m\u001b[1;33m.\u001b[0m\u001b[0m_installSignalHandlers\u001b[0m \u001b[1;33m=\u001b[0m \u001b[0minstallSignalHandlers\u001b[0m\u001b[1;33m\u001b[0m\u001b[1;33m\u001b[0m\u001b[0m\n\u001b[1;32m-> 1262\u001b[1;33m         \u001b[0mReactorBase\u001b[0m\u001b[1;33m.\u001b[0m\u001b[0mstartRunning\u001b[0m\u001b[1;33m(\u001b[0m\u001b[0mself\u001b[0m\u001b[1;33m)\u001b[0m\u001b[1;33m\u001b[0m\u001b[1;33m\u001b[0m\u001b[0m\n\u001b[0m\u001b[0;32m   1263\u001b[0m \u001b[1;33m\u001b[0m\u001b[0m\n\u001b[0;32m   1264\u001b[0m \u001b[1;33m\u001b[0m\u001b[0m\n",
      "\u001b[1;32m~\\Anaconda3\\lib\\site-packages\\twisted\\internet\\base.py\u001b[0m in \u001b[0;36mstartRunning\u001b[1;34m(self)\u001b[0m\n\u001b[0;32m    763\u001b[0m             \u001b[1;32mraise\u001b[0m \u001b[0merror\u001b[0m\u001b[1;33m.\u001b[0m\u001b[0mReactorAlreadyRunning\u001b[0m\u001b[1;33m(\u001b[0m\u001b[1;33m)\u001b[0m\u001b[1;33m\u001b[0m\u001b[1;33m\u001b[0m\u001b[0m\n\u001b[0;32m    764\u001b[0m         \u001b[1;32mif\u001b[0m \u001b[0mself\u001b[0m\u001b[1;33m.\u001b[0m\u001b[0m_startedBefore\u001b[0m\u001b[1;33m:\u001b[0m\u001b[1;33m\u001b[0m\u001b[1;33m\u001b[0m\u001b[0m\n\u001b[1;32m--> 765\u001b[1;33m             \u001b[1;32mraise\u001b[0m \u001b[0merror\u001b[0m\u001b[1;33m.\u001b[0m\u001b[0mReactorNotRestartable\u001b[0m\u001b[1;33m(\u001b[0m\u001b[1;33m)\u001b[0m\u001b[1;33m\u001b[0m\u001b[1;33m\u001b[0m\u001b[0m\n\u001b[0m\u001b[0;32m    766\u001b[0m         \u001b[0mself\u001b[0m\u001b[1;33m.\u001b[0m\u001b[0m_started\u001b[0m \u001b[1;33m=\u001b[0m \u001b[1;32mTrue\u001b[0m\u001b[1;33m\u001b[0m\u001b[1;33m\u001b[0m\u001b[0m\n\u001b[0;32m    767\u001b[0m         \u001b[0mself\u001b[0m\u001b[1;33m.\u001b[0m\u001b[0m_stopped\u001b[0m \u001b[1;33m=\u001b[0m \u001b[1;32mFalse\u001b[0m\u001b[1;33m\u001b[0m\u001b[1;33m\u001b[0m\u001b[0m\n",
      "\u001b[1;31mReactorNotRestartable\u001b[0m: "
     ]
    }
   ],
   "source": [
    "pa = KiteTicker(api_key, access_token)\n",
    "instoken = get_instrument_token(tradingsymbol, instrument_type, exchange)\n",
    "tokens = [instoken]\n",
    "\n",
    "def on_tick(tick, wbskt):\n",
    "    print(tick)\n",
    "\n",
    "def on_connect(wbskt):\n",
    "    #Callback on successful connect\n",
    "    #Subscribe to a list of instrument_tokens\n",
    "    wbskt.subscribe(tokens)\n",
    "    \n",
    "    #Set mode for ticks\n",
    "    ws.set_mode(ws.MODE_QUOTE, tokens)\n",
    "\n",
    "pa.on_tick = on_tick\n",
    "pa.on_connect = on_connect\n",
    "\n",
    "pa.connect()"
   ]
  },
  {
   "cell_type": "code",
   "execution_count": 38,
   "metadata": {},
   "outputs": [],
   "source": []
  },
  {
   "cell_type": "code",
   "execution_count": 39,
   "metadata": {},
   "outputs": [],
   "source": []
  },
  {
   "cell_type": "code",
   "execution_count": 27,
   "metadata": {},
   "outputs": [],
   "source": []
  },
  {
   "cell_type": "code",
   "execution_count": 40,
   "metadata": {},
   "outputs": [],
   "source": []
  },
  {
   "cell_type": "code",
   "execution_count": 29,
   "metadata": {},
   "outputs": [],
   "source": [
    "#INSTRUMENT DATA\n",
    "tradingsymbol = 'BANKNIFTY20AUGFUT'\n",
    "instrument_type = 'FUT'\n",
    "exchange = 'NFO'\n",
    "\n",
    "# TRADE DETAILS\n",
    "qty = 1\n",
    "order_type='MARKET'\n",
    "product='MIS'\n",
    "variety='regular'\n",
    "\n",
    "# CHART SPECIFICATIONS\n",
    "candle_size = '3minute'\n",
    "k_period = 10\n",
    "k_smooth_period = 3\n",
    "d_smooth_period = 3\n",
    "d_period = 10\n",
    "\n",
    "# DEPLOYMENT DURATION\n",
    "deploy_till = datetime(year=2020, month=8, day=20, hour=15 , minute=30 , second=0)"
   ]
  },
  {
   "cell_type": "code",
   "execution_count": 24,
   "metadata": {},
   "outputs": [],
   "source": []
  },
  {
   "cell_type": "code",
   "execution_count": 41,
   "metadata": {},
   "outputs": [
    {
     "ename": "ReactorNotRestartable",
     "evalue": "",
     "output_type": "error",
     "traceback": [
      "\u001b[1;31m---------------------------------------------------------------------------\u001b[0m",
      "\u001b[1;31mReactorNotRestartable\u001b[0m                     Traceback (most recent call last)",
      "\u001b[1;32m<ipython-input-41-b1736dd7d8c9>\u001b[0m in \u001b[0;36m<module>\u001b[1;34m\u001b[0m\n\u001b[1;32m----> 1\u001b[1;33m \u001b[0mpa\u001b[0m\u001b[1;33m.\u001b[0m\u001b[0mconnect\u001b[0m\u001b[1;33m(\u001b[0m\u001b[1;33m)\u001b[0m\u001b[1;33m\u001b[0m\u001b[1;33m\u001b[0m\u001b[0m\n\u001b[0m",
      "\u001b[1;32m~\\Anaconda3\\lib\\site-packages\\kiteconnect\\ticker.py\u001b[0m in \u001b[0;36mconnect\u001b[1;34m(self, threaded, disable_ssl_verification, proxy)\u001b[0m\n\u001b[0;32m    530\u001b[0m                 \u001b[0mself\u001b[0m\u001b[1;33m.\u001b[0m\u001b[0mwebsocket_thread\u001b[0m\u001b[1;33m.\u001b[0m\u001b[0mstart\u001b[0m\u001b[1;33m(\u001b[0m\u001b[1;33m)\u001b[0m\u001b[1;33m\u001b[0m\u001b[1;33m\u001b[0m\u001b[0m\n\u001b[0;32m    531\u001b[0m             \u001b[1;32melse\u001b[0m\u001b[1;33m:\u001b[0m\u001b[1;33m\u001b[0m\u001b[1;33m\u001b[0m\u001b[0m\n\u001b[1;32m--> 532\u001b[1;33m                 \u001b[0mreactor\u001b[0m\u001b[1;33m.\u001b[0m\u001b[0mrun\u001b[0m\u001b[1;33m(\u001b[0m\u001b[1;33m**\u001b[0m\u001b[0mopts\u001b[0m\u001b[1;33m)\u001b[0m\u001b[1;33m\u001b[0m\u001b[1;33m\u001b[0m\u001b[0m\n\u001b[0m\u001b[0;32m    533\u001b[0m \u001b[1;33m\u001b[0m\u001b[0m\n\u001b[0;32m    534\u001b[0m     \u001b[1;32mdef\u001b[0m \u001b[0mis_connected\u001b[0m\u001b[1;33m(\u001b[0m\u001b[0mself\u001b[0m\u001b[1;33m)\u001b[0m\u001b[1;33m:\u001b[0m\u001b[1;33m\u001b[0m\u001b[1;33m\u001b[0m\u001b[0m\n",
      "\u001b[1;32m~\\Anaconda3\\lib\\site-packages\\twisted\\internet\\base.py\u001b[0m in \u001b[0;36mrun\u001b[1;34m(self, installSignalHandlers)\u001b[0m\n\u001b[0;32m   1280\u001b[0m \u001b[1;33m\u001b[0m\u001b[0m\n\u001b[0;32m   1281\u001b[0m     \u001b[1;32mdef\u001b[0m \u001b[0mrun\u001b[0m\u001b[1;33m(\u001b[0m\u001b[0mself\u001b[0m\u001b[1;33m,\u001b[0m \u001b[0minstallSignalHandlers\u001b[0m\u001b[1;33m=\u001b[0m\u001b[1;32mTrue\u001b[0m\u001b[1;33m)\u001b[0m\u001b[1;33m:\u001b[0m\u001b[1;33m\u001b[0m\u001b[1;33m\u001b[0m\u001b[0m\n\u001b[1;32m-> 1282\u001b[1;33m         \u001b[0mself\u001b[0m\u001b[1;33m.\u001b[0m\u001b[0mstartRunning\u001b[0m\u001b[1;33m(\u001b[0m\u001b[0minstallSignalHandlers\u001b[0m\u001b[1;33m=\u001b[0m\u001b[0minstallSignalHandlers\u001b[0m\u001b[1;33m)\u001b[0m\u001b[1;33m\u001b[0m\u001b[1;33m\u001b[0m\u001b[0m\n\u001b[0m\u001b[0;32m   1283\u001b[0m         \u001b[0mself\u001b[0m\u001b[1;33m.\u001b[0m\u001b[0mmainLoop\u001b[0m\u001b[1;33m(\u001b[0m\u001b[1;33m)\u001b[0m\u001b[1;33m\u001b[0m\u001b[1;33m\u001b[0m\u001b[0m\n\u001b[0;32m   1284\u001b[0m \u001b[1;33m\u001b[0m\u001b[0m\n",
      "\u001b[1;32m~\\Anaconda3\\lib\\site-packages\\twisted\\internet\\base.py\u001b[0m in \u001b[0;36mstartRunning\u001b[1;34m(self, installSignalHandlers)\u001b[0m\n\u001b[0;32m   1260\u001b[0m         \"\"\"\n\u001b[0;32m   1261\u001b[0m         \u001b[0mself\u001b[0m\u001b[1;33m.\u001b[0m\u001b[0m_installSignalHandlers\u001b[0m \u001b[1;33m=\u001b[0m \u001b[0minstallSignalHandlers\u001b[0m\u001b[1;33m\u001b[0m\u001b[1;33m\u001b[0m\u001b[0m\n\u001b[1;32m-> 1262\u001b[1;33m         \u001b[0mReactorBase\u001b[0m\u001b[1;33m.\u001b[0m\u001b[0mstartRunning\u001b[0m\u001b[1;33m(\u001b[0m\u001b[0mself\u001b[0m\u001b[1;33m)\u001b[0m\u001b[1;33m\u001b[0m\u001b[1;33m\u001b[0m\u001b[0m\n\u001b[0m\u001b[0;32m   1263\u001b[0m \u001b[1;33m\u001b[0m\u001b[0m\n\u001b[0;32m   1264\u001b[0m \u001b[1;33m\u001b[0m\u001b[0m\n",
      "\u001b[1;32m~\\Anaconda3\\lib\\site-packages\\twisted\\internet\\base.py\u001b[0m in \u001b[0;36mstartRunning\u001b[1;34m(self)\u001b[0m\n\u001b[0;32m    763\u001b[0m             \u001b[1;32mraise\u001b[0m \u001b[0merror\u001b[0m\u001b[1;33m.\u001b[0m\u001b[0mReactorAlreadyRunning\u001b[0m\u001b[1;33m(\u001b[0m\u001b[1;33m)\u001b[0m\u001b[1;33m\u001b[0m\u001b[1;33m\u001b[0m\u001b[0m\n\u001b[0;32m    764\u001b[0m         \u001b[1;32mif\u001b[0m \u001b[0mself\u001b[0m\u001b[1;33m.\u001b[0m\u001b[0m_startedBefore\u001b[0m\u001b[1;33m:\u001b[0m\u001b[1;33m\u001b[0m\u001b[1;33m\u001b[0m\u001b[0m\n\u001b[1;32m--> 765\u001b[1;33m             \u001b[1;32mraise\u001b[0m \u001b[0merror\u001b[0m\u001b[1;33m.\u001b[0m\u001b[0mReactorNotRestartable\u001b[0m\u001b[1;33m(\u001b[0m\u001b[1;33m)\u001b[0m\u001b[1;33m\u001b[0m\u001b[1;33m\u001b[0m\u001b[0m\n\u001b[0m\u001b[0;32m    766\u001b[0m         \u001b[0mself\u001b[0m\u001b[1;33m.\u001b[0m\u001b[0m_started\u001b[0m \u001b[1;33m=\u001b[0m \u001b[1;32mTrue\u001b[0m\u001b[1;33m\u001b[0m\u001b[1;33m\u001b[0m\u001b[0m\n\u001b[0;32m    767\u001b[0m         \u001b[0mself\u001b[0m\u001b[1;33m.\u001b[0m\u001b[0m_stopped\u001b[0m \u001b[1;33m=\u001b[0m \u001b[1;32mFalse\u001b[0m\u001b[1;33m\u001b[0m\u001b[1;33m\u001b[0m\u001b[0m\n",
      "\u001b[1;31mReactorNotRestartable\u001b[0m: "
     ]
    }
   ],
   "source": []
  },
  {
   "cell_type": "code",
   "execution_count": null,
   "metadata": {},
   "outputs": [],
   "source": []
  },
  {
   "cell_type": "code",
   "execution_count": null,
   "metadata": {},
   "outputs": [],
   "source": [
    "inst"
   ]
  }
 ],
 "metadata": {
  "kernelspec": {
   "display_name": "Python 3",
   "language": "python",
   "name": "python3"
  },
  "language_info": {
   "codemirror_mode": {
    "name": "ipython",
    "version": 3
   },
   "file_extension": ".py",
   "mimetype": "text/x-python",
   "name": "python",
   "nbconvert_exporter": "python",
   "pygments_lexer": "ipython3",
   "version": "3.7.4"
  }
 },
 "nbformat": 4,
 "nbformat_minor": 2
}
