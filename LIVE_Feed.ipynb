{
 "cells": [
  {
   "cell_type": "code",
   "execution_count": 1,
   "metadata": {},
   "outputs": [],
   "source": [
    "import pandas as pd\n",
    "from time import time, sleep\n",
    "from datetime import datetime, timedelta\n",
    "import matplotlib.pyplot as plt\n",
    "%matplotlib inline"
   ]
  },
  {
   "cell_type": "code",
   "execution_count": 2,
   "metadata": {},
   "outputs": [],
   "source": [
    "import json\n",
    "import logging\n",
    "from kiteconnect import KiteTicker"
   ]
  },
  {
   "cell_type": "code",
   "execution_count": 3,
   "metadata": {},
   "outputs": [],
   "source": [
    "api_key = \"f5ean4aaxq3wv9n3\"\n",
    "access_token = 'X3q3FdmWsSB34MzmkrBtj3xWc9rDxguU'"
   ]
  },
  {
   "cell_type": "code",
   "execution_count": 4,
   "metadata": {},
   "outputs": [],
   "source": [
    "#INSTRUMENT DATA\n",
    "tradingsymbol = 'BANKNIFTY20SEPFUT'\n",
    "instrument_type = 'FUT'\n",
    "exchange = 'NFO'\n",
    "\n",
    "# TRADE DETAILS\n",
    "qty = 1\n",
    "order_type='MARKET'\n",
    "product='MIS'\n",
    "variety='regular'\n",
    "\n",
    "# CHART SPECIFICATIONS\n",
    "candle_size = '3minute'\n",
    "k_period = 10\n",
    "k_smooth_period = 3\n",
    "d_smooth_period = 3\n",
    "d_period = 10\n",
    "\n",
    "# DEPLOYMENT DURATION\n",
    "deploy_till = datetime(year=2020, month=8, day=31, hour=15 , minute=30 , second=0)\n",
    "\n",
    "tokens = [14956290]"
   ]
  },
  {
   "cell_type": "code",
   "execution_count": 5,
   "metadata": {},
   "outputs": [],
   "source": [
    "candle = 1\n",
    "first_candle_timestamp = datetime(2020, 8, 31, 10, 8)\n",
    "candle_data = pd.DataFrame(columns=['Candle','Open','High','Low','Close','Color'])\n",
    "latest_candle = pd.DataFrame(columns=['price'])"
   ]
  },
  {
   "cell_type": "code",
   "execution_count": 6,
   "metadata": {},
   "outputs": [],
   "source": [
    "# Callback for successful connection.\n",
    "def on_connect(ws, response):\n",
    "    logging.debug(\"on connect: {}\".format(response))\n",
    "    ws.subscribe(tokens)\n",
    "    ws.set_mode(ws.MODE_FULL, tokens)\n",
    "\n",
    "def on_close(ws, code, reason):\n",
    "    logging.error(\"closed connection on close: {} {}\".format(code, reason))\n",
    "\n",
    "def on_error(ws, code, reason):\n",
    "    logging.error(\"closed connection on error: {} {}\".format(code, reason))\n",
    "    \n",
    "def on_noreconnect(ws):\n",
    "    logging.error(\"Reconnecting the websocket failed\")\n",
    "\n",
    "def on_reconnect(ws, attempt_count):\n",
    "    logging.debug(\"Reconnecting the websocket: {}\".format(attempt_count))"
   ]
  },
  {
   "cell_type": "code",
   "execution_count": 7,
   "metadata": {},
   "outputs": [],
   "source": [
    "def on_order_update(ws, data):\n",
    "    print(\"order update: \", data)"
   ]
  },
  {
   "cell_type": "code",
   "execution_count": 8,
   "metadata": {},
   "outputs": [],
   "source": [
    "def on_ticks(ws, tick):\n",
    "    print(datetime.strftime(tick[0]['timestamp'], \"%Y-%m-%d %H:%M:%S\")+\"==> \"+str(tick[0]['last_price']))\n",
    "    candle+=1\n",
    "    print(candle)"
   ]
  },
  {
   "cell_type": "code",
   "execution_count": 8,
   "metadata": {},
   "outputs": [],
   "source": [
    "# Callback for tick reception.\n",
    "def on_ticks(ws, ticks):\n",
    "    #static data\n",
    "    candle = 3\n",
    "    \n",
    "    current_timestamp = tick[0]['timestamp']\n",
    "    current_timestamp_string = datetime.strftime(tick[0]['timestamp'], \"%Y-%m-%d %H:%M:%S\")\n",
    "    latest_price = ticks[0]['last_price']\n",
    "    print(latest_price)\n",
    "    first_candle_timestamp = datetime(current_timestamp.year, current_timestamp.month, current_timestamp.day, current_timestamp.hour, (current_timestamp.minute//candle)*candle)\n",
    "    \n",
    "    if datetime.now().minute>=first_candle_timestamp.minute and datetime.now().minute<(first_candle_timestamp+timedelta(minutes=candle)).minute:\n",
    "        latest_candle.loc[len(latest_candle)] = latest_price\n",
    "    elif (first_candle_timestamp+timedelta(minutes=candle)).minute==0 and datetime.now().hour<(first_candle_timestamp+timedelta(minutes=candle)).hour:\n",
    "        latest_candle.loc[len(latest_candle)] = latest_price\n",
    "    else:\n",
    "        price_list = list(latest_candle['price'])\n",
    "        if price_list[0]<price_list[-1]:\n",
    "            color = 'green'\n",
    "        else:\n",
    "            color = 'red'\n",
    "        candle_data.loc[len(candle_data)] = [first_candle_timestamp, price_list[0], max(price_list), min(price_list), price_list[-1], color]\n",
    "        first_candle_timestamp = first_candle_timestamp+timedelta(minutes=candle)\n",
    "        latest_candle = pd.DataFrame(columns=['price'])\n",
    "        print(candle_data)"
   ]
  },
  {
   "cell_type": "code",
   "execution_count": 9,
   "metadata": {
    "scrolled": true
   },
   "outputs": [
    {
     "name": "stderr",
     "output_type": "stream",
     "text": [
      "2020-08-31 10:57:47,971 - kiteconnect.ticker - DEBUG - Start WebSocket connection.\n"
     ]
    },
    {
     "name": "stdout",
     "output_type": "stream",
     "text": [
      "Tokens length 1\n",
      "2020-08-31 10:57:47+0530 [-] Log opened.\n"
     ]
    },
    {
     "name": "stderr",
     "output_type": "stream",
     "text": [
      "2020-08-31 10:57:48,175 - root - DEBUG - on connect: {\"peer\": \"tcp4:13.127.120.33:443\", \"headers\": {\"date\": \"Mon, 31 Aug 2020 05:27:48 GMT\", \"connection\": \"upgrade\", \"upgrade\": \"websocket\", \"sec-websocket-accept\": \"NJZW4sSY7xMbg5S7jyEJ80cOOvw=\"}, \"version\": 18, \"protocol\": null, \"extensions\": []}\n",
      "2020-08-31 10:57:48,178 - kiteconnect.ticker - DEBUG - ping => \n",
      "2020-08-31 10:57:48,206 - kiteconnect.ticker - DEBUG - pong => b''\n"
     ]
    },
    {
     "name": "stdout",
     "output_type": "stream",
     "text": [
      "2020-08-31 10:57:48+0530 [-] 2020-08-31 10:57:48==> 24539.95\n",
      "2020-08-31 10:57:48+0530 [KiteTickerClientProtocol (TLSMemoryBIOProtocol),client] Unhandled Error\n",
      "\tTraceback (most recent call last):\n",
      "\t  File \"C:\\Users\\Admin\\Anaconda3\\lib\\site-packages\\twisted\\python\\log.py\", line 103, in callWithLogger\n",
      "\t    return callWithContext({\"system\": lp}, func, *args, **kw)\n",
      "\t  File \"C:\\Users\\Admin\\Anaconda3\\lib\\site-packages\\twisted\\python\\log.py\", line 86, in callWithContext\n",
      "\t    return context.call({ILogContext: newCtx}, func, *args, **kw)\n",
      "\t  File \"C:\\Users\\Admin\\Anaconda3\\lib\\site-packages\\twisted\\python\\context.py\", line 122, in callWithContext\n",
      "\t    return self.currentContext().callWithContext(ctx, func, *args, **kw)\n",
      "\t  File \"C:\\Users\\Admin\\Anaconda3\\lib\\site-packages\\twisted\\python\\context.py\", line 85, in callWithContext\n",
      "\t    return func(*args,**kw)\n",
      "\t--- <exception caught here> ---\n",
      "\t  File \"C:\\Users\\Admin\\Anaconda3\\lib\\site-packages\\twisted\\internet\\selectreactor.py\", line 149, in _doReadOrWrite\n",
      "\t    why = getattr(selectable, method)()\n",
      "\t  File \"C:\\Users\\Admin\\Anaconda3\\lib\\site-packages\\twisted\\internet\\tcp.py\", line 243, in doRead\n",
      "\t    return self._dataReceived(data)\n",
      "\t  File \"C:\\Users\\Admin\\Anaconda3\\lib\\site-packages\\twisted\\internet\\tcp.py\", line 249, in _dataReceived\n",
      "\t    rval = self.protocol.dataReceived(data)\n",
      "\t  File \"C:\\Users\\Admin\\Anaconda3\\lib\\site-packages\\twisted\\protocols\\tls.py\", line 330, in dataReceived\n",
      "\t    self._flushReceiveBIO()\n",
      "\t  File \"C:\\Users\\Admin\\Anaconda3\\lib\\site-packages\\twisted\\protocols\\tls.py\", line 295, in _flushReceiveBIO\n",
      "\t    ProtocolWrapper.dataReceived(self, bytes)\n",
      "\t  File \"C:\\Users\\Admin\\Anaconda3\\lib\\site-packages\\twisted\\protocols\\policies.py\", line 120, in dataReceived\n",
      "\t    self.wrappedProtocol.dataReceived(data)\n",
      "\t  File \"C:\\Users\\Admin\\Anaconda3\\lib\\site-packages\\autobahn\\twisted\\websocket.py\", line 290, in dataReceived\n",
      "\t    self._dataReceived(data)\n",
      "\t  File \"C:\\Users\\Admin\\Anaconda3\\lib\\site-packages\\autobahn\\websocket\\protocol.py\", line 1206, in _dataReceived\n",
      "\t    self.consumeData()\n",
      "\t  File \"C:\\Users\\Admin\\Anaconda3\\lib\\site-packages\\autobahn\\websocket\\protocol.py\", line 1218, in consumeData\n",
      "\t    while self.processData() and self.state != WebSocketProtocol.STATE_CLOSED:\n",
      "\t  File \"C:\\Users\\Admin\\Anaconda3\\lib\\site-packages\\autobahn\\websocket\\protocol.py\", line 1578, in processData\n",
      "\t    fr = self.onFrameEnd()\n",
      "\t  File \"C:\\Users\\Admin\\Anaconda3\\lib\\site-packages\\autobahn\\websocket\\protocol.py\", line 1703, in onFrameEnd\n",
      "\t    self._onMessageEnd()\n",
      "\t  File \"C:\\Users\\Admin\\Anaconda3\\lib\\site-packages\\autobahn\\twisted\\websocket.py\", line 318, in _onMessageEnd\n",
      "\t    self.onMessageEnd()\n",
      "\t  File \"C:\\Users\\Admin\\Anaconda3\\lib\\site-packages\\autobahn\\websocket\\protocol.py\", line 627, in onMessageEnd\n",
      "\t    self._onMessage(payload, self.message_is_binary)\n",
      "\t  File \"C:\\Users\\Admin\\Anaconda3\\lib\\site-packages\\autobahn\\twisted\\websocket.py\", line 321, in _onMessage\n",
      "\t    self.onMessage(payload, isBinary)\n",
      "\t  File \"C:\\Users\\Admin\\Anaconda3\\lib\\site-packages\\kiteconnect\\ticker.py\", line 71, in onMessage\n",
      "\t    self.factory.on_message(self, payload, is_binary)\n",
      "\t  File \"C:\\Users\\Admin\\Anaconda3\\lib\\site-packages\\kiteconnect\\ticker.py\", line 670, in _on_message\n",
      "\t    self.on_ticks(self, self._parse_binary(payload))\n",
      "\t  File \"<ipython-input-8-d6d785987417>\", line 3, in on_ticks\n",
      "\t    candle+=1\n",
      "\tbuiltins.UnboundLocalError: local variable 'candle' referenced before assignment\n",
      "\t\n"
     ]
    },
    {
     "name": "stderr",
     "output_type": "stream",
     "text": [
      "2020-08-31 10:57:48,636 - kiteconnect.ticker - ERROR - Connection error: 1006 - connection was closed uncleanly (peer dropped the TCP connection without previous WebSocket closing handshake)\n",
      "2020-08-31 10:57:48,637 - root - ERROR - closed connection on error: 1006 connection was closed uncleanly (peer dropped the TCP connection without previous WebSocket closing handshake)\n",
      "2020-08-31 10:57:48,640 - kiteconnect.ticker - ERROR - Connection closed: 1006 - connection was closed uncleanly (peer dropped the TCP connection without previous WebSocket closing handshake)\n",
      "2020-08-31 10:57:48,643 - root - ERROR - closed connection on close: 1006 connection was closed uncleanly (peer dropped the TCP connection without previous WebSocket closing handshake)\n"
     ]
    },
    {
     "name": "stdout",
     "output_type": "stream",
     "text": [
      "2020-08-31 10:57:48+0530 [KiteTickerClientProtocol (TLSMemoryBIOProtocol),client] <twisted.internet.tcp.Connector instance at 0x1eb74c65c08 disconnected IPv4Address(type='TCP', host='ws.kite.trade', port=443)> will retry in 2 seconds\n",
      "2020-08-31 10:57:48+0530 [-] Stopping factory <kiteconnect.ticker.KiteTickerClientFactory object at 0x000001EB74C86E08>\n",
      "2020-08-31 10:57:51+0530 [-] Starting factory <kiteconnect.ticker.KiteTickerClientFactory object at 0x000001EB74C86E08>\n"
     ]
    },
    {
     "name": "stderr",
     "output_type": "stream",
     "text": [
      "2020-08-31 10:57:51,742 - root - DEBUG - on connect: {\"peer\": \"tcp4:13.127.120.33:443\", \"headers\": {\"date\": \"Mon, 31 Aug 2020 05:27:52 GMT\", \"connection\": \"upgrade\", \"upgrade\": \"websocket\", \"sec-websocket-accept\": \"sO+9bk+/WbCA5beyI53V1cDv62U=\"}, \"version\": 18, \"protocol\": null, \"extensions\": []}\n",
      "2020-08-31 10:57:51,746 - kiteconnect.ticker - DEBUG - ping => \n",
      "2020-08-31 10:57:51,749 - kiteconnect.ticker - DEBUG - Resubscribe and set mode: full - [14956290]\n",
      "2020-08-31 10:57:51,846 - kiteconnect.ticker - DEBUG - pong => b''\n"
     ]
    },
    {
     "name": "stdout",
     "output_type": "stream",
     "text": [
      "2020-08-31 10:57:52+0530 [-] 2020-08-31 10:57:52==> 24540.1\n",
      "2020-08-31 10:57:52+0530 [KiteTickerClientProtocol (TLSMemoryBIOProtocol),client] Unhandled Error\n",
      "\tTraceback (most recent call last):\n",
      "\t  File \"C:\\Users\\Admin\\Anaconda3\\lib\\site-packages\\twisted\\python\\log.py\", line 103, in callWithLogger\n",
      "\t    return callWithContext({\"system\": lp}, func, *args, **kw)\n",
      "\t  File \"C:\\Users\\Admin\\Anaconda3\\lib\\site-packages\\twisted\\python\\log.py\", line 86, in callWithContext\n",
      "\t    return context.call({ILogContext: newCtx}, func, *args, **kw)\n",
      "\t  File \"C:\\Users\\Admin\\Anaconda3\\lib\\site-packages\\twisted\\python\\context.py\", line 122, in callWithContext\n",
      "\t    return self.currentContext().callWithContext(ctx, func, *args, **kw)\n",
      "\t  File \"C:\\Users\\Admin\\Anaconda3\\lib\\site-packages\\twisted\\python\\context.py\", line 85, in callWithContext\n",
      "\t    return func(*args,**kw)\n",
      "\t--- <exception caught here> ---\n",
      "\t  File \"C:\\Users\\Admin\\Anaconda3\\lib\\site-packages\\twisted\\internet\\selectreactor.py\", line 149, in _doReadOrWrite\n",
      "\t    why = getattr(selectable, method)()\n",
      "\t  File \"C:\\Users\\Admin\\Anaconda3\\lib\\site-packages\\twisted\\internet\\tcp.py\", line 243, in doRead\n",
      "\t    return self._dataReceived(data)\n",
      "\t  File \"C:\\Users\\Admin\\Anaconda3\\lib\\site-packages\\twisted\\internet\\tcp.py\", line 249, in _dataReceived\n",
      "\t    rval = self.protocol.dataReceived(data)\n",
      "\t  File \"C:\\Users\\Admin\\Anaconda3\\lib\\site-packages\\twisted\\protocols\\tls.py\", line 330, in dataReceived\n",
      "\t    self._flushReceiveBIO()\n",
      "\t  File \"C:\\Users\\Admin\\Anaconda3\\lib\\site-packages\\twisted\\protocols\\tls.py\", line 295, in _flushReceiveBIO\n",
      "\t    ProtocolWrapper.dataReceived(self, bytes)\n",
      "\t  File \"C:\\Users\\Admin\\Anaconda3\\lib\\site-packages\\twisted\\protocols\\policies.py\", line 120, in dataReceived\n",
      "\t    self.wrappedProtocol.dataReceived(data)\n",
      "\t  File \"C:\\Users\\Admin\\Anaconda3\\lib\\site-packages\\autobahn\\twisted\\websocket.py\", line 290, in dataReceived\n",
      "\t    self._dataReceived(data)\n",
      "\t  File \"C:\\Users\\Admin\\Anaconda3\\lib\\site-packages\\autobahn\\websocket\\protocol.py\", line 1206, in _dataReceived\n",
      "\t    self.consumeData()\n",
      "\t  File \"C:\\Users\\Admin\\Anaconda3\\lib\\site-packages\\autobahn\\websocket\\protocol.py\", line 1218, in consumeData\n",
      "\t    while self.processData() and self.state != WebSocketProtocol.STATE_CLOSED:\n",
      "\t  File \"C:\\Users\\Admin\\Anaconda3\\lib\\site-packages\\autobahn\\websocket\\protocol.py\", line 1578, in processData\n",
      "\t    fr = self.onFrameEnd()\n",
      "\t  File \"C:\\Users\\Admin\\Anaconda3\\lib\\site-packages\\autobahn\\websocket\\protocol.py\", line 1703, in onFrameEnd\n",
      "\t    self._onMessageEnd()\n",
      "\t  File \"C:\\Users\\Admin\\Anaconda3\\lib\\site-packages\\autobahn\\twisted\\websocket.py\", line 318, in _onMessageEnd\n",
      "\t    self.onMessageEnd()\n",
      "\t  File \"C:\\Users\\Admin\\Anaconda3\\lib\\site-packages\\autobahn\\websocket\\protocol.py\", line 627, in onMessageEnd\n",
      "\t    self._onMessage(payload, self.message_is_binary)\n",
      "\t  File \"C:\\Users\\Admin\\Anaconda3\\lib\\site-packages\\autobahn\\twisted\\websocket.py\", line 321, in _onMessage\n",
      "\t    self.onMessage(payload, isBinary)\n",
      "\t  File \"C:\\Users\\Admin\\Anaconda3\\lib\\site-packages\\kiteconnect\\ticker.py\", line 71, in onMessage\n",
      "\t    self.factory.on_message(self, payload, is_binary)\n",
      "\t  File \"C:\\Users\\Admin\\Anaconda3\\lib\\site-packages\\kiteconnect\\ticker.py\", line 670, in _on_message\n",
      "\t    self.on_ticks(self, self._parse_binary(payload))\n",
      "\t  File \"<ipython-input-8-d6d785987417>\", line 3, in on_ticks\n",
      "\t    candle+=1\n",
      "\tbuiltins.UnboundLocalError: local variable 'candle' referenced before assignment\n",
      "\t\n"
     ]
    },
    {
     "name": "stderr",
     "output_type": "stream",
     "text": [
      "2020-08-31 10:57:52,310 - kiteconnect.ticker - ERROR - Connection error: 1006 - connection was closed uncleanly (peer dropped the TCP connection without previous WebSocket closing handshake)\n",
      "2020-08-31 10:57:52,315 - root - ERROR - closed connection on error: 1006 connection was closed uncleanly (peer dropped the TCP connection without previous WebSocket closing handshake)\n",
      "2020-08-31 10:57:52,318 - kiteconnect.ticker - ERROR - Connection closed: 1006 - connection was closed uncleanly (peer dropped the TCP connection without previous WebSocket closing handshake)\n",
      "2020-08-31 10:57:52,322 - root - ERROR - closed connection on close: 1006 connection was closed uncleanly (peer dropped the TCP connection without previous WebSocket closing handshake)\n"
     ]
    },
    {
     "name": "stdout",
     "output_type": "stream",
     "text": [
      "2020-08-31 10:57:52+0530 [KiteTickerClientProtocol (TLSMemoryBIOProtocol),client] <twisted.internet.tcp.Connector instance at 0x1eb74c65c08 disconnected IPv4Address(type='TCP', host='ws.kite.trade', port=443)> will retry in 2 seconds\n",
      "2020-08-31 10:57:52+0530 [-] Stopping factory <kiteconnect.ticker.KiteTickerClientFactory object at 0x000001EB74C86E08>\n",
      "2020-08-31 10:57:54+0530 [-] Starting factory <kiteconnect.ticker.KiteTickerClientFactory object at 0x000001EB74C86E08>\n"
     ]
    },
    {
     "name": "stderr",
     "output_type": "stream",
     "text": [
      "2020-08-31 10:57:55,191 - root - DEBUG - on connect: {\"peer\": \"tcp4:13.127.120.33:443\", \"headers\": {\"date\": \"Mon, 31 Aug 2020 05:27:55 GMT\", \"connection\": \"upgrade\", \"upgrade\": \"websocket\", \"sec-websocket-accept\": \"5qLj3ug7Sa6wvXry1bfOjD7haWo=\"}, \"version\": 18, \"protocol\": null, \"extensions\": []}\n",
      "2020-08-31 10:57:55,196 - kiteconnect.ticker - DEBUG - ping => \n",
      "2020-08-31 10:57:55,200 - kiteconnect.ticker - DEBUG - Resubscribe and set mode: full - [14956290]\n",
      "2020-08-31 10:57:55,605 - kiteconnect.ticker - DEBUG - pong => b''\n"
     ]
    },
    {
     "name": "stdout",
     "output_type": "stream",
     "text": [
      "2020-08-31 10:57:55+0530 [-] 2020-08-31 10:57:55==> 24543.3\n",
      "2020-08-31 10:57:55+0530 [KiteTickerClientProtocol (TLSMemoryBIOProtocol),client] Unhandled Error\n",
      "\tTraceback (most recent call last):\n",
      "\t  File \"C:\\Users\\Admin\\Anaconda3\\lib\\site-packages\\twisted\\python\\log.py\", line 103, in callWithLogger\n",
      "\t    return callWithContext({\"system\": lp}, func, *args, **kw)\n",
      "\t  File \"C:\\Users\\Admin\\Anaconda3\\lib\\site-packages\\twisted\\python\\log.py\", line 86, in callWithContext\n",
      "\t    return context.call({ILogContext: newCtx}, func, *args, **kw)\n",
      "\t  File \"C:\\Users\\Admin\\Anaconda3\\lib\\site-packages\\twisted\\python\\context.py\", line 122, in callWithContext\n",
      "\t    return self.currentContext().callWithContext(ctx, func, *args, **kw)\n",
      "\t  File \"C:\\Users\\Admin\\Anaconda3\\lib\\site-packages\\twisted\\python\\context.py\", line 85, in callWithContext\n",
      "\t    return func(*args,**kw)\n",
      "\t--- <exception caught here> ---\n",
      "\t  File \"C:\\Users\\Admin\\Anaconda3\\lib\\site-packages\\twisted\\internet\\selectreactor.py\", line 149, in _doReadOrWrite\n",
      "\t    why = getattr(selectable, method)()\n",
      "\t  File \"C:\\Users\\Admin\\Anaconda3\\lib\\site-packages\\twisted\\internet\\tcp.py\", line 243, in doRead\n",
      "\t    return self._dataReceived(data)\n",
      "\t  File \"C:\\Users\\Admin\\Anaconda3\\lib\\site-packages\\twisted\\internet\\tcp.py\", line 249, in _dataReceived\n",
      "\t    rval = self.protocol.dataReceived(data)\n",
      "\t  File \"C:\\Users\\Admin\\Anaconda3\\lib\\site-packages\\twisted\\protocols\\tls.py\", line 330, in dataReceived\n",
      "\t    self._flushReceiveBIO()\n",
      "\t  File \"C:\\Users\\Admin\\Anaconda3\\lib\\site-packages\\twisted\\protocols\\tls.py\", line 295, in _flushReceiveBIO\n",
      "\t    ProtocolWrapper.dataReceived(self, bytes)\n",
      "\t  File \"C:\\Users\\Admin\\Anaconda3\\lib\\site-packages\\twisted\\protocols\\policies.py\", line 120, in dataReceived\n",
      "\t    self.wrappedProtocol.dataReceived(data)\n",
      "\t  File \"C:\\Users\\Admin\\Anaconda3\\lib\\site-packages\\autobahn\\twisted\\websocket.py\", line 290, in dataReceived\n",
      "\t    self._dataReceived(data)\n",
      "\t  File \"C:\\Users\\Admin\\Anaconda3\\lib\\site-packages\\autobahn\\websocket\\protocol.py\", line 1206, in _dataReceived\n",
      "\t    self.consumeData()\n",
      "\t  File \"C:\\Users\\Admin\\Anaconda3\\lib\\site-packages\\autobahn\\websocket\\protocol.py\", line 1218, in consumeData\n",
      "\t    while self.processData() and self.state != WebSocketProtocol.STATE_CLOSED:\n",
      "\t  File \"C:\\Users\\Admin\\Anaconda3\\lib\\site-packages\\autobahn\\websocket\\protocol.py\", line 1578, in processData\n",
      "\t    fr = self.onFrameEnd()\n",
      "\t  File \"C:\\Users\\Admin\\Anaconda3\\lib\\site-packages\\autobahn\\websocket\\protocol.py\", line 1703, in onFrameEnd\n",
      "\t    self._onMessageEnd()\n",
      "\t  File \"C:\\Users\\Admin\\Anaconda3\\lib\\site-packages\\autobahn\\twisted\\websocket.py\", line 318, in _onMessageEnd\n",
      "\t    self.onMessageEnd()\n",
      "\t  File \"C:\\Users\\Admin\\Anaconda3\\lib\\site-packages\\autobahn\\websocket\\protocol.py\", line 627, in onMessageEnd\n",
      "\t    self._onMessage(payload, self.message_is_binary)\n",
      "\t  File \"C:\\Users\\Admin\\Anaconda3\\lib\\site-packages\\autobahn\\twisted\\websocket.py\", line 321, in _onMessage\n",
      "\t    self.onMessage(payload, isBinary)\n",
      "\t  File \"C:\\Users\\Admin\\Anaconda3\\lib\\site-packages\\kiteconnect\\ticker.py\", line 71, in onMessage\n",
      "\t    self.factory.on_message(self, payload, is_binary)\n",
      "\t  File \"C:\\Users\\Admin\\Anaconda3\\lib\\site-packages\\kiteconnect\\ticker.py\", line 670, in _on_message\n",
      "\t    self.on_ticks(self, self._parse_binary(payload))\n",
      "\t  File \"<ipython-input-8-d6d785987417>\", line 3, in on_ticks\n",
      "\t    candle+=1\n",
      "\tbuiltins.UnboundLocalError: local variable 'candle' referenced before assignment\n",
      "\t\n"
     ]
    },
    {
     "name": "stderr",
     "output_type": "stream",
     "text": [
      "2020-08-31 10:57:55,751 - kiteconnect.ticker - ERROR - Connection error: 1006 - connection was closed uncleanly (peer dropped the TCP connection without previous WebSocket closing handshake)\n",
      "2020-08-31 10:57:55,755 - root - ERROR - closed connection on error: 1006 connection was closed uncleanly (peer dropped the TCP connection without previous WebSocket closing handshake)\n",
      "2020-08-31 10:57:55,758 - kiteconnect.ticker - ERROR - Connection closed: 1006 - connection was closed uncleanly (peer dropped the TCP connection without previous WebSocket closing handshake)\n",
      "2020-08-31 10:57:55,761 - root - ERROR - closed connection on close: 1006 connection was closed uncleanly (peer dropped the TCP connection without previous WebSocket closing handshake)\n"
     ]
    },
    {
     "name": "stdout",
     "output_type": "stream",
     "text": [
      "2020-08-31 10:57:55+0530 [KiteTickerClientProtocol (TLSMemoryBIOProtocol),client] <twisted.internet.tcp.Connector instance at 0x1eb74c65c08 disconnected IPv4Address(type='TCP', host='ws.kite.trade', port=443)> will retry in 2 seconds\n",
      "2020-08-31 10:57:55+0530 [-] Stopping factory <kiteconnect.ticker.KiteTickerClientFactory object at 0x000001EB74C86E08>\n",
      "2020-08-31 10:57:58+0530 [-] Starting factory <kiteconnect.ticker.KiteTickerClientFactory object at 0x000001EB74C86E08>\n"
     ]
    },
    {
     "name": "stderr",
     "output_type": "stream",
     "text": [
      "2020-08-31 10:57:58,335 - root - DEBUG - on connect: {\"peer\": \"tcp4:13.127.120.33:443\", \"headers\": {\"date\": \"Mon, 31 Aug 2020 05:27:58 GMT\", \"connection\": \"upgrade\", \"upgrade\": \"websocket\", \"sec-websocket-accept\": \"eND87JRoGDdyUF6Sol/R7FhdlUg=\"}, \"version\": 18, \"protocol\": null, \"extensions\": []}\n",
      "2020-08-31 10:57:58,341 - kiteconnect.ticker - DEBUG - ping => \n",
      "2020-08-31 10:57:58,344 - kiteconnect.ticker - DEBUG - Resubscribe and set mode: full - [14956290]\n",
      "2020-08-31 10:57:58,374 - kiteconnect.ticker - DEBUG - pong => b''\n"
     ]
    },
    {
     "name": "stdout",
     "output_type": "stream",
     "text": [
      "2020-08-31 10:57:58+0530 [-] Received SIGINT, shutting down.\n",
      "2020-08-31 10:57:58+0530 [-] 2020-08-31 10:57:58==> 24544.2\n",
      "2020-08-31 10:57:58+0530 [KiteTickerClientProtocol (TLSMemoryBIOProtocol),client] Unhandled Error\n",
      "\tTraceback (most recent call last):\n",
      "\t  File \"C:\\Users\\Admin\\Anaconda3\\lib\\site-packages\\twisted\\python\\log.py\", line 103, in callWithLogger\n",
      "\t    return callWithContext({\"system\": lp}, func, *args, **kw)\n",
      "\t  File \"C:\\Users\\Admin\\Anaconda3\\lib\\site-packages\\twisted\\python\\log.py\", line 86, in callWithContext\n",
      "\t    return context.call({ILogContext: newCtx}, func, *args, **kw)\n",
      "\t  File \"C:\\Users\\Admin\\Anaconda3\\lib\\site-packages\\twisted\\python\\context.py\", line 122, in callWithContext\n",
      "\t    return self.currentContext().callWithContext(ctx, func, *args, **kw)\n",
      "\t  File \"C:\\Users\\Admin\\Anaconda3\\lib\\site-packages\\twisted\\python\\context.py\", line 85, in callWithContext\n",
      "\t    return func(*args,**kw)\n",
      "\t--- <exception caught here> ---\n",
      "\t  File \"C:\\Users\\Admin\\Anaconda3\\lib\\site-packages\\twisted\\internet\\selectreactor.py\", line 149, in _doReadOrWrite\n",
      "\t    why = getattr(selectable, method)()\n",
      "\t  File \"C:\\Users\\Admin\\Anaconda3\\lib\\site-packages\\twisted\\internet\\tcp.py\", line 243, in doRead\n",
      "\t    return self._dataReceived(data)\n",
      "\t  File \"C:\\Users\\Admin\\Anaconda3\\lib\\site-packages\\twisted\\internet\\tcp.py\", line 249, in _dataReceived\n",
      "\t    rval = self.protocol.dataReceived(data)\n",
      "\t  File \"C:\\Users\\Admin\\Anaconda3\\lib\\site-packages\\twisted\\protocols\\tls.py\", line 330, in dataReceived\n",
      "\t    self._flushReceiveBIO()\n",
      "\t  File \"C:\\Users\\Admin\\Anaconda3\\lib\\site-packages\\twisted\\protocols\\tls.py\", line 295, in _flushReceiveBIO\n",
      "\t    ProtocolWrapper.dataReceived(self, bytes)\n",
      "\t  File \"C:\\Users\\Admin\\Anaconda3\\lib\\site-packages\\twisted\\protocols\\policies.py\", line 120, in dataReceived\n",
      "\t    self.wrappedProtocol.dataReceived(data)\n",
      "\t  File \"C:\\Users\\Admin\\Anaconda3\\lib\\site-packages\\autobahn\\twisted\\websocket.py\", line 290, in dataReceived\n",
      "\t    self._dataReceived(data)\n",
      "\t  File \"C:\\Users\\Admin\\Anaconda3\\lib\\site-packages\\autobahn\\websocket\\protocol.py\", line 1206, in _dataReceived\n",
      "\t    self.consumeData()\n",
      "\t  File \"C:\\Users\\Admin\\Anaconda3\\lib\\site-packages\\autobahn\\websocket\\protocol.py\", line 1218, in consumeData\n",
      "\t    while self.processData() and self.state != WebSocketProtocol.STATE_CLOSED:\n",
      "\t  File \"C:\\Users\\Admin\\Anaconda3\\lib\\site-packages\\autobahn\\websocket\\protocol.py\", line 1578, in processData\n",
      "\t    fr = self.onFrameEnd()\n",
      "\t  File \"C:\\Users\\Admin\\Anaconda3\\lib\\site-packages\\autobahn\\websocket\\protocol.py\", line 1703, in onFrameEnd\n",
      "\t    self._onMessageEnd()\n",
      "\t  File \"C:\\Users\\Admin\\Anaconda3\\lib\\site-packages\\autobahn\\twisted\\websocket.py\", line 318, in _onMessageEnd\n",
      "\t    self.onMessageEnd()\n",
      "\t  File \"C:\\Users\\Admin\\Anaconda3\\lib\\site-packages\\autobahn\\websocket\\protocol.py\", line 627, in onMessageEnd\n",
      "\t    self._onMessage(payload, self.message_is_binary)\n",
      "\t  File \"C:\\Users\\Admin\\Anaconda3\\lib\\site-packages\\autobahn\\twisted\\websocket.py\", line 321, in _onMessage\n",
      "\t    self.onMessage(payload, isBinary)\n",
      "\t  File \"C:\\Users\\Admin\\Anaconda3\\lib\\site-packages\\kiteconnect\\ticker.py\", line 71, in onMessage\n",
      "\t    self.factory.on_message(self, payload, is_binary)\n",
      "\t  File \"C:\\Users\\Admin\\Anaconda3\\lib\\site-packages\\kiteconnect\\ticker.py\", line 670, in _on_message\n",
      "\t    self.on_ticks(self, self._parse_binary(payload))\n",
      "\t  File \"<ipython-input-8-d6d785987417>\", line 3, in on_ticks\n",
      "\t    candle+=1\n",
      "\tbuiltins.UnboundLocalError: local variable 'candle' referenced before assignment\n",
      "\t\n"
     ]
    },
    {
     "name": "stderr",
     "output_type": "stream",
     "text": [
      "2020-08-31 10:57:58,817 - kiteconnect.ticker - ERROR - Connection error: 1006 - connection was closed uncleanly (peer dropped the TCP connection without previous WebSocket closing handshake)\n",
      "2020-08-31 10:57:58,818 - root - ERROR - closed connection on error: 1006 connection was closed uncleanly (peer dropped the TCP connection without previous WebSocket closing handshake)\n",
      "2020-08-31 10:57:58,820 - kiteconnect.ticker - ERROR - Connection closed: 1006 - connection was closed uncleanly (peer dropped the TCP connection without previous WebSocket closing handshake)\n",
      "2020-08-31 10:57:58,822 - root - ERROR - closed connection on close: 1006 connection was closed uncleanly (peer dropped the TCP connection without previous WebSocket closing handshake)\n"
     ]
    },
    {
     "name": "stdout",
     "output_type": "stream",
     "text": [
      "2020-08-31 10:57:58+0530 [KiteTickerClientProtocol (TLSMemoryBIOProtocol),client] <twisted.internet.tcp.Connector instance at 0x1eb74c65c08 disconnected IPv4Address(type='TCP', host='ws.kite.trade', port=443)> will retry in 2 seconds\n",
      "2020-08-31 10:57:58+0530 [-] Stopping factory <kiteconnect.ticker.KiteTickerClientFactory object at 0x000001EB74C86E08>\n",
      "2020-08-31 10:57:58+0530 [-] Main loop terminated.\n"
     ]
    }
   ],
   "source": [
    "logging.basicConfig(level=logging.DEBUG, format='%(asctime)s - %(name)s - %(levelname)s - %(message)s')\n",
    "\n",
    "# Initialise.\n",
    "kws = KiteTicker(api_key, access_token, debug=True)\n",
    "print(\"Tokens length\", len(tokens))\n",
    "\n",
    "# Assign the callbacks.\n",
    "kws.on_ticks = on_ticks\n",
    "kws.on_connect = on_connect\n",
    "kws.on_close = on_close\n",
    "kws.on_error = on_error\n",
    "kws.on_noreconnect = on_noreconnect\n",
    "kws.on_reconnect = on_reconnect\n",
    "kws.on_order_update = on_order_update\n",
    "\n",
    "# kws.enable_reconnect(reconnect_interval=5, reconnect_tries=50)\n",
    "\n",
    "# Infinite loop on the main thread. Nothing after this will run.\n",
    "# You have to use the pre-defined callbacks to manage subscriptions.\n",
    "# kws.connect(disable_ssl_verification=True)\n",
    "kws.connect()"
   ]
  },
  {
   "cell_type": "code",
   "execution_count": null,
   "metadata": {
    "scrolled": true
   },
   "outputs": [],
   "source": []
  },
  {
   "cell_type": "code",
   "execution_count": null,
   "metadata": {},
   "outputs": [],
   "source": []
  },
  {
   "cell_type": "code",
   "execution_count": null,
   "metadata": {},
   "outputs": [],
   "source": []
  },
  {
   "cell_type": "code",
   "execution_count": null,
   "metadata": {},
   "outputs": [],
   "source": []
  },
  {
   "cell_type": "code",
   "execution_count": null,
   "metadata": {},
   "outputs": [],
   "source": []
  },
  {
   "cell_type": "code",
   "execution_count": null,
   "metadata": {},
   "outputs": [],
   "source": []
  },
  {
   "cell_type": "code",
   "execution_count": null,
   "metadata": {},
   "outputs": [],
   "source": []
  },
  {
   "cell_type": "code",
   "execution_count": null,
   "metadata": {},
   "outputs": [],
   "source": []
  },
  {
   "cell_type": "code",
   "execution_count": null,
   "metadata": {},
   "outputs": [],
   "source": []
  },
  {
   "cell_type": "code",
   "execution_count": null,
   "metadata": {},
   "outputs": [],
   "source": []
  },
  {
   "cell_type": "code",
   "execution_count": null,
   "metadata": {},
   "outputs": [],
   "source": []
  },
  {
   "cell_type": "code",
   "execution_count": null,
   "metadata": {},
   "outputs": [],
   "source": []
  },
  {
   "cell_type": "code",
   "execution_count": null,
   "metadata": {},
   "outputs": [],
   "source": []
  },
  {
   "cell_type": "code",
   "execution_count": null,
   "metadata": {},
   "outputs": [],
   "source": []
  },
  {
   "cell_type": "code",
   "execution_count": null,
   "metadata": {},
   "outputs": [],
   "source": []
  },
  {
   "cell_type": "code",
   "execution_count": null,
   "metadata": {},
   "outputs": [],
   "source": []
  },
  {
   "cell_type": "code",
   "execution_count": 14,
   "metadata": {},
   "outputs": [],
   "source": [
    "import json\n",
    "import requests\n",
    "import time"
   ]
  },
  {
   "cell_type": "code",
   "execution_count": 15,
   "metadata": {},
   "outputs": [],
   "source": [
    "def main():\n",
    "    r = requests.get(\"https://api.kite.trade/quote/ltp?api_key=f5ean4aaxq3wv9n3&access_token=bWjEfQWLA8YSRoO1UWu3i4bBfgTPnf1I&i=NFO:BANKNIFTY20AUGFUT\")\n",
    "    r2 = r.json()\n",
    "    print(r2)\n",
    "    #price = r2['data']['last_price']\n",
    "    #timestamp = r2['data']['last_time']\n",
    "    #print(timestamp+\"==>\"+price)\n",
    "    #return price, timestamp"
   ]
  },
  {
   "cell_type": "code",
   "execution_count": 16,
   "metadata": {},
   "outputs": [
    {
     "name": "stdout",
     "output_type": "stream",
     "text": [
      "{'status': 'success', 'data': {'NFO:BANKNIFTY20AUGFUT': {'instrument_token': 11348226, 'last_price': 23441.35}}}\n",
      "{'status': 'success', 'data': {'NFO:BANKNIFTY20AUGFUT': {'instrument_token': 11348226, 'last_price': 23441.35}}}\n",
      "{'status': 'success', 'data': {'NFO:BANKNIFTY20AUGFUT': {'instrument_token': 11348226, 'last_price': 23441.35}}}\n",
      "{'status': 'success', 'data': {'NFO:BANKNIFTY20AUGFUT': {'instrument_token': 11348226, 'last_price': 23441.35}}}\n",
      "{'status': 'success', 'data': {'NFO:BANKNIFTY20AUGFUT': {'instrument_token': 11348226, 'last_price': 23441.35}}}\n",
      "{'status': 'success', 'data': {'NFO:BANKNIFTY20AUGFUT': {'instrument_token': 11348226, 'last_price': 23441.35}}}\n"
     ]
    },
    {
     "ename": "KeyboardInterrupt",
     "evalue": "",
     "output_type": "error",
     "traceback": [
      "\u001b[1;31m---------------------------------------------------------------------------\u001b[0m",
      "\u001b[1;31mKeyboardInterrupt\u001b[0m                         Traceback (most recent call last)",
      "\u001b[1;32m<ipython-input-16-8c0940e1c218>\u001b[0m in \u001b[0;36m<module>\u001b[1;34m\u001b[0m\n\u001b[0;32m      2\u001b[0m     \u001b[0mmain\u001b[0m\u001b[1;33m(\u001b[0m\u001b[1;33m)\u001b[0m\u001b[1;33m\u001b[0m\u001b[1;33m\u001b[0m\u001b[0m\n\u001b[0;32m      3\u001b[0m     \u001b[1;31m#print(timestamp+\"==>\"+price)\u001b[0m\u001b[1;33m\u001b[0m\u001b[1;33m\u001b[0m\u001b[1;33m\u001b[0m\u001b[0m\n\u001b[1;32m----> 4\u001b[1;33m     \u001b[0mtime\u001b[0m\u001b[1;33m.\u001b[0m\u001b[0msleep\u001b[0m\u001b[1;33m(\u001b[0m\u001b[1;36m1\u001b[0m\u001b[1;33m)\u001b[0m\u001b[1;33m\u001b[0m\u001b[1;33m\u001b[0m\u001b[0m\n\u001b[0m",
      "\u001b[1;31mKeyboardInterrupt\u001b[0m: "
     ]
    }
   ],
   "source": [
    "while True:\n",
    "    main()\n",
    "    #print(timestamp+\"==>\"+price)\n",
    "    time.sleep(1)"
   ]
  },
  {
   "cell_type": "code",
   "execution_count": null,
   "metadata": {},
   "outputs": [],
   "source": []
  }
 ],
 "metadata": {
  "kernelspec": {
   "display_name": "Python 3",
   "language": "python",
   "name": "python3"
  },
  "language_info": {
   "codemirror_mode": {
    "name": "ipython",
    "version": 3
   },
   "file_extension": ".py",
   "mimetype": "text/x-python",
   "name": "python",
   "nbconvert_exporter": "python",
   "pygments_lexer": "ipython3",
   "version": "3.7.4"
  }
 },
 "nbformat": 4,
 "nbformat_minor": 2
}
